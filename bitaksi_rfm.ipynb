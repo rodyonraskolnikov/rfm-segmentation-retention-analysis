{
 "cells": [
  {
   "cell_type": "code",
   "execution_count": 2,
   "metadata": {},
   "outputs": [],
   "source": [
    "import pandas as pd\n",
    "import datetime as dt\n",
    "import matplotlib.pyplot as plt\n",
    "import seaborn as sns"
   ]
  },
  {
   "cell_type": "code",
   "execution_count": 3,
   "metadata": {},
   "outputs": [
    {
     "data": {
      "text/html": [
       "<div>\n",
       "<style scoped>\n",
       "    .dataframe tbody tr th:only-of-type {\n",
       "        vertical-align: middle;\n",
       "    }\n",
       "\n",
       "    .dataframe tbody tr th {\n",
       "        vertical-align: top;\n",
       "    }\n",
       "\n",
       "    .dataframe thead th {\n",
       "        text-align: right;\n",
       "    }\n",
       "</style>\n",
       "<table border=\"1\" class=\"dataframe\">\n",
       "  <thead>\n",
       "    <tr style=\"text-align: right;\">\n",
       "      <th></th>\n",
       "      <th>Customer ID</th>\n",
       "      <th>Last Transaction Date</th>\n",
       "      <th>Frequency (Usage in Last 12 Months)</th>\n",
       "      <th>Total Spending (TL)</th>\n",
       "    </tr>\n",
       "  </thead>\n",
       "  <tbody>\n",
       "    <tr>\n",
       "      <th>0</th>\n",
       "      <td>1</td>\n",
       "      <td>2024-04-25</td>\n",
       "      <td>50</td>\n",
       "      <td>1748</td>\n",
       "    </tr>\n",
       "    <tr>\n",
       "      <th>1</th>\n",
       "      <td>2</td>\n",
       "      <td>2024-09-19</td>\n",
       "      <td>37</td>\n",
       "      <td>4055</td>\n",
       "    </tr>\n",
       "    <tr>\n",
       "      <th>2</th>\n",
       "      <td>3</td>\n",
       "      <td>2024-04-10</td>\n",
       "      <td>39</td>\n",
       "      <td>2647</td>\n",
       "    </tr>\n",
       "    <tr>\n",
       "      <th>3</th>\n",
       "      <td>4</td>\n",
       "      <td>2024-04-23</td>\n",
       "      <td>6</td>\n",
       "      <td>3980</td>\n",
       "    </tr>\n",
       "    <tr>\n",
       "      <th>4</th>\n",
       "      <td>5</td>\n",
       "      <td>2024-07-30</td>\n",
       "      <td>4</td>\n",
       "      <td>2907</td>\n",
       "    </tr>\n",
       "  </tbody>\n",
       "</table>\n",
       "</div>"
      ],
      "text/plain": [
       "   Customer ID Last Transaction Date  Frequency (Usage in Last 12 Months)  \\\n",
       "0            1            2024-04-25                                   50   \n",
       "1            2            2024-09-19                                   37   \n",
       "2            3            2024-04-10                                   39   \n",
       "3            4            2024-04-23                                    6   \n",
       "4            5            2024-07-30                                    4   \n",
       "\n",
       "   Total Spending (TL)  \n",
       "0                 1748  \n",
       "1                 4055  \n",
       "2                 2647  \n",
       "3                 3980  \n",
       "4                 2907  "
      ]
     },
     "execution_count": 3,
     "metadata": {},
     "output_type": "execute_result"
    }
   ],
   "source": [
    "df = pd.read_excel(\"bitaksi_RFM_Segmentasyonu_Dummy_Data_1000.xlsx\")\n",
    "df.head()"
   ]
  },
  {
   "cell_type": "markdown",
   "metadata": {},
   "source": [
    "# Assign RFM Scores"
   ]
  },
  {
   "cell_type": "markdown",
   "metadata": {},
   "source": [
    "### Recency (R) : Segment customers into 5 groups based on the number of days since their last ride."
   ]
  },
  {
   "cell_type": "code",
   "execution_count": 4,
   "metadata": {},
   "outputs": [],
   "source": [
    "import datetime as dt"
   ]
  },
  {
   "cell_type": "code",
   "execution_count": 5,
   "metadata": {},
   "outputs": [
    {
     "data": {
      "text/plain": [
       "0    250\n",
       "1    103\n",
       "2    265\n",
       "3    252\n",
       "4    154\n",
       "Name: Recency, dtype: int64"
      ]
     },
     "execution_count": 5,
     "metadata": {},
     "output_type": "execute_result"
    }
   ],
   "source": [
    "# calculate recency\n",
    "\n",
    "today = dt.datetime(2024, 12, 31) # assume today is the last day of 2024\n",
    "df['Last Transaction Date'] = pd.to_datetime(df['Last Transaction Date'])\n",
    "df['Recency'] = (today - df['Last Transaction Date']).dt.days\n",
    "\n",
    "df['Recency'].head()"
   ]
  },
  {
   "cell_type": "code",
   "execution_count": 6,
   "metadata": {},
   "outputs": [
    {
     "name": "stdout",
     "output_type": "stream",
     "text": [
      " Customer ID Last Transaction Date  Frequency (Usage in Last 12 Months)  Total Spending (TL)  Recency\n",
      "         871            2023-12-11                                   24                 2420      386\n",
      "         222            2023-12-11                                   41                 1093      386\n",
      "         885            2023-12-11                                   31                 2077      386\n",
      "         475            2023-12-12                                   42                 2346      385\n",
      "         170            2023-12-13                                    4                 1732      384\n",
      "         273            2023-12-13                                   14                 1860      384\n",
      "         540            2023-12-14                                   21                  887      383\n",
      "          29            2023-12-14                                   19                 2275      383\n",
      "         354            2023-12-14                                   18                 4123      383\n",
      "         492            2023-12-14                                    3                 3237      383\n"
     ]
    }
   ],
   "source": [
    "# sorting the 'Recency' column\n",
    "\n",
    "df.sort_values(by='Recency', ascending=False).head(10)\n",
    "\n",
    "print(df.sort_values(by='Recency', ascending=False).head(10).to_string(index=False))\n"
   ]
  },
  {
   "cell_type": "markdown",
   "metadata": {},
   "source": [
    "#### Recency thresholds (days since last ride) will be as below:\n",
    "\n",
    "Score 5:   0 –  83 days\n",
    "\n",
    "Score 4:  84 – 130 days\n",
    "\n",
    "Score 3: 131 – 209 days\n",
    "\n",
    "Score 2: 210 – 330 days\n",
    "\n",
    "Score 1: 331 – 551 days\n",
    "\n"
   ]
  },
  {
   "cell_type": "code",
   "execution_count": 7,
   "metadata": {},
   "outputs": [
    {
     "name": "stdout",
     "output_type": "stream",
     "text": [
      " Customer ID  Recency R_Score\n",
      "         871      386       1\n",
      "         222      386       1\n",
      "         885      386       1\n",
      "         475      385       1\n",
      "         170      384       1\n"
     ]
    }
   ],
   "source": [
    "# Recency (R) : Segment customers into 5 groups based on the number of days since their last ride.\n",
    "\n",
    "df['R_Score'] = pd.qcut(df['Recency'], q=5, labels=[5, 4, 3, 2, 1])\n",
    "\n",
    "df[['Customer ID', 'Recency', 'R_Score']].head()\n",
    "\n",
    "df_sorted_oldest = df.sort_values('Recency', ascending=False)\n",
    "\n",
    "print(df_sorted_oldest[['Customer ID', 'Recency', 'R_Score']].head().to_string(index=False))"
   ]
  },
  {
   "cell_type": "markdown",
   "metadata": {},
   "source": [
    "### Frequency (F) : Segment customers into 5 groups based on their total ride frequency."
   ]
  },
  {
   "cell_type": "code",
   "execution_count": 8,
   "metadata": {},
   "outputs": [
    {
     "data": {
      "text/plain": [
       "F_Score\n",
       "1    215\n",
       "2    198\n",
       "3    194\n",
       "4    212\n",
       "5    181\n",
       "Name: count, dtype: int64"
      ]
     },
     "execution_count": 8,
     "metadata": {},
     "output_type": "execute_result"
    }
   ],
   "source": [
    "df['F_Score'] = pd.qcut(df['Frequency (Usage in Last 12 Months)'], 5, labels=[1, 2, 3, 4, 5])\n",
    "\n",
    "df[['Customer ID', 'Frequency (Usage in Last 12 Months)', 'F_Score']].head()        # preview\n",
    "df['F_Score'].value_counts().sort_index()               # counts per score\n"
   ]
  },
  {
   "cell_type": "markdown",
   "metadata": {},
   "source": [
    "#### Frequency thresholds:\n",
    "\n",
    "Score 5: 42 – 50 rides\n",
    "\n",
    "Score 4: 32 – 41 rides\n",
    "\n",
    "Score 3: 23 – 31 rides\n",
    "\n",
    "Score 2: 12 – 22 rides\n",
    "\n",
    "Score 1: 1 – 11 rides\n",
    "\n"
   ]
  },
  {
   "cell_type": "code",
   "execution_count": 9,
   "metadata": {},
   "outputs": [
    {
     "name": "stderr",
     "output_type": "stream",
     "text": [
      "/var/folders/1z/j73pt9wx3dj89j3b5hd6qyhh0000gn/T/ipykernel_1940/3888657401.py:3: FutureWarning: The default of observed=False is deprecated and will be changed to True in a future version of pandas. Pass observed=False to retain current behavior or observed=True to adopt the future default and silence this warning.\n",
      "  df.groupby('F_Score')['Frequency (Usage in Last 12 Months)'].agg(['min', 'max', 'count']).sort_index()\n"
     ]
    },
    {
     "data": {
      "text/html": [
       "<div>\n",
       "<style scoped>\n",
       "    .dataframe tbody tr th:only-of-type {\n",
       "        vertical-align: middle;\n",
       "    }\n",
       "\n",
       "    .dataframe tbody tr th {\n",
       "        vertical-align: top;\n",
       "    }\n",
       "\n",
       "    .dataframe thead th {\n",
       "        text-align: right;\n",
       "    }\n",
       "</style>\n",
       "<table border=\"1\" class=\"dataframe\">\n",
       "  <thead>\n",
       "    <tr style=\"text-align: right;\">\n",
       "      <th></th>\n",
       "      <th>min</th>\n",
       "      <th>max</th>\n",
       "      <th>count</th>\n",
       "    </tr>\n",
       "    <tr>\n",
       "      <th>F_Score</th>\n",
       "      <th></th>\n",
       "      <th></th>\n",
       "      <th></th>\n",
       "    </tr>\n",
       "  </thead>\n",
       "  <tbody>\n",
       "    <tr>\n",
       "      <th>1</th>\n",
       "      <td>1</td>\n",
       "      <td>11</td>\n",
       "      <td>215</td>\n",
       "    </tr>\n",
       "    <tr>\n",
       "      <th>2</th>\n",
       "      <td>12</td>\n",
       "      <td>22</td>\n",
       "      <td>198</td>\n",
       "    </tr>\n",
       "    <tr>\n",
       "      <th>3</th>\n",
       "      <td>23</td>\n",
       "      <td>31</td>\n",
       "      <td>194</td>\n",
       "    </tr>\n",
       "    <tr>\n",
       "      <th>4</th>\n",
       "      <td>32</td>\n",
       "      <td>41</td>\n",
       "      <td>212</td>\n",
       "    </tr>\n",
       "    <tr>\n",
       "      <th>5</th>\n",
       "      <td>42</td>\n",
       "      <td>50</td>\n",
       "      <td>181</td>\n",
       "    </tr>\n",
       "  </tbody>\n",
       "</table>\n",
       "</div>"
      ],
      "text/plain": [
       "         min  max  count\n",
       "F_Score                 \n",
       "1          1   11    215\n",
       "2         12   22    198\n",
       "3         23   31    194\n",
       "4         32   41    212\n",
       "5         42   50    181"
      ]
     },
     "execution_count": 9,
     "metadata": {},
     "output_type": "execute_result"
    }
   ],
   "source": [
    "# Show min, max, and customer count for each F_Score bucket\n",
    "\n",
    "df.groupby('F_Score')['Frequency (Usage in Last 12 Months)'].agg(['min', 'max', 'count']).sort_index()"
   ]
  },
  {
   "cell_type": "markdown",
   "metadata": {},
   "source": [
    "### Monetary (M) : Segment customers into 5 groups based on their total spending. Higher values indicate higher scores."
   ]
  },
  {
   "cell_type": "code",
   "execution_count": 10,
   "metadata": {},
   "outputs": [
    {
     "data": {
      "text/plain": [
       "M_Score\n",
       "1    200\n",
       "2    200\n",
       "3    200\n",
       "4    200\n",
       "5    200\n",
       "Name: count, dtype: int64"
      ]
     },
     "execution_count": 10,
     "metadata": {},
     "output_type": "execute_result"
    }
   ],
   "source": [
    "df['M_Score'] = pd.qcut(df['Total Spending (TL)'], 5, labels=[1, 2, 3, 4, 5])\n",
    "\n",
    "df[['Customer ID', 'Total Spending (TL)', 'M_Score']].head()      # preview\n",
    "df['M_Score'].value_counts().sort_index() "
   ]
  },
  {
   "cell_type": "code",
   "execution_count": 11,
   "metadata": {},
   "outputs": [
    {
     "name": "stderr",
     "output_type": "stream",
     "text": [
      "/var/folders/1z/j73pt9wx3dj89j3b5hd6qyhh0000gn/T/ipykernel_1940/240070586.py:1: FutureWarning: The default of observed=False is deprecated and will be changed to True in a future version of pandas. Pass observed=False to retain current behavior or observed=True to adopt the future default and silence this warning.\n",
      "  df.groupby('M_Score')['Total Spending (TL)'] \\\n"
     ]
    },
    {
     "data": {
      "text/html": [
       "<div>\n",
       "<style scoped>\n",
       "    .dataframe tbody tr th:only-of-type {\n",
       "        vertical-align: middle;\n",
       "    }\n",
       "\n",
       "    .dataframe tbody tr th {\n",
       "        vertical-align: top;\n",
       "    }\n",
       "\n",
       "    .dataframe thead th {\n",
       "        text-align: right;\n",
       "    }\n",
       "</style>\n",
       "<table border=\"1\" class=\"dataframe\">\n",
       "  <thead>\n",
       "    <tr style=\"text-align: right;\">\n",
       "      <th></th>\n",
       "      <th>min</th>\n",
       "      <th>max</th>\n",
       "      <th>count</th>\n",
       "    </tr>\n",
       "    <tr>\n",
       "      <th>M_Score</th>\n",
       "      <th></th>\n",
       "      <th></th>\n",
       "      <th></th>\n",
       "    </tr>\n",
       "  </thead>\n",
       "  <tbody>\n",
       "    <tr>\n",
       "      <th>1</th>\n",
       "      <td>55</td>\n",
       "      <td>1132</td>\n",
       "      <td>200</td>\n",
       "    </tr>\n",
       "    <tr>\n",
       "      <th>2</th>\n",
       "      <td>1135</td>\n",
       "      <td>2077</td>\n",
       "      <td>200</td>\n",
       "    </tr>\n",
       "    <tr>\n",
       "      <th>3</th>\n",
       "      <td>2082</td>\n",
       "      <td>3117</td>\n",
       "      <td>200</td>\n",
       "    </tr>\n",
       "    <tr>\n",
       "      <th>4</th>\n",
       "      <td>3123</td>\n",
       "      <td>4048</td>\n",
       "      <td>200</td>\n",
       "    </tr>\n",
       "    <tr>\n",
       "      <th>5</th>\n",
       "      <td>4050</td>\n",
       "      <td>4991</td>\n",
       "      <td>200</td>\n",
       "    </tr>\n",
       "  </tbody>\n",
       "</table>\n",
       "</div>"
      ],
      "text/plain": [
       "          min   max  count\n",
       "M_Score                   \n",
       "1          55  1132    200\n",
       "2        1135  2077    200\n",
       "3        2082  3117    200\n",
       "4        3123  4048    200\n",
       "5        4050  4991    200"
      ]
     },
     "execution_count": 11,
     "metadata": {},
     "output_type": "execute_result"
    }
   ],
   "source": [
    "df.groupby('M_Score')['Total Spending (TL)'] \\\n",
    "  .agg(['min', 'max', 'count']) \\\n",
    "  .sort_index()"
   ]
  },
  {
   "cell_type": "markdown",
   "metadata": {},
   "source": [
    "# Analyze the Segments <a id=\"analyze-the-segments\"></a>"
   ]
  },
  {
   "cell_type": "markdown",
   "metadata": {},
   "source": [
    "## Identify the most valuable segments."
   ]
  },
  {
   "cell_type": "code",
   "execution_count": 12,
   "metadata": {},
   "outputs": [
    {
     "data": {
      "text/plain": [
       "0    252\n",
       "1    445\n",
       "2    243\n",
       "3    214\n",
       "4    413\n",
       "Name: RFM_Score, dtype: object"
      ]
     },
     "execution_count": 12,
     "metadata": {},
     "output_type": "execute_result"
    }
   ],
   "source": [
    "# Combine the scores into 3-digit RFM code. Customers who score '555' will be the best customers.\n",
    "\n",
    "df['RFM_Score'] = (\n",
    "    df['R_Score'].astype(str) +\n",
    "    df['F_Score'].astype(str) +\n",
    "    df['M_Score'].astype(str)\n",
    ")\n",
    "\n",
    "df['RFM_Score'].head()"
   ]
  },
  {
   "cell_type": "markdown",
   "metadata": {},
   "source": [
    "### Customers who scored 5 in all three segments will show '555'. Let's call them 'champions'. Those who have any two 5's and one 4 will be 'loyal_big_spenders'. Lastly, those whose all digits are ≥4 will be named 'high_value_cluster'."
   ]
  },
  {
   "cell_type": "code",
   "execution_count": 13,
   "metadata": {},
   "outputs": [],
   "source": [
    "# Champions\n",
    "champions = df[df['RFM_Score'] == '555']\n",
    "\n",
    "# Loyal Big-Spenders (any two 5’s, one 4)\n",
    "loyal_big_spenders = df[df['RFM_Score'].isin(['554','545','455','544'])]\n",
    "\n",
    "# High-Value Loyalists (all digits ≥4)\n",
    "high_value_cluster = df[df['RFM_Score'].str.match(r'^[45][45][45]$')]\n"
   ]
  },
  {
   "cell_type": "code",
   "execution_count": 14,
   "metadata": {},
   "outputs": [
    {
     "data": {
      "text/html": [
       "<div>\n",
       "<style scoped>\n",
       "    .dataframe tbody tr th:only-of-type {\n",
       "        vertical-align: middle;\n",
       "    }\n",
       "\n",
       "    .dataframe tbody tr th {\n",
       "        vertical-align: top;\n",
       "    }\n",
       "\n",
       "    .dataframe thead th {\n",
       "        text-align: right;\n",
       "    }\n",
       "</style>\n",
       "<table border=\"1\" class=\"dataframe\">\n",
       "  <thead>\n",
       "    <tr style=\"text-align: right;\">\n",
       "      <th></th>\n",
       "      <th>Customer ID</th>\n",
       "      <th>Recency</th>\n",
       "      <th>Frequency (Usage in Last 12 Months)</th>\n",
       "      <th>Total Spending (TL)</th>\n",
       "      <th>RFM_Score</th>\n",
       "    </tr>\n",
       "  </thead>\n",
       "  <tbody>\n",
       "    <tr>\n",
       "      <th>130</th>\n",
       "      <td>131</td>\n",
       "      <td>77</td>\n",
       "      <td>49</td>\n",
       "      <td>4166</td>\n",
       "      <td>555</td>\n",
       "    </tr>\n",
       "    <tr>\n",
       "      <th>249</th>\n",
       "      <td>250</td>\n",
       "      <td>83</td>\n",
       "      <td>46</td>\n",
       "      <td>4947</td>\n",
       "      <td>555</td>\n",
       "    </tr>\n",
       "    <tr>\n",
       "      <th>460</th>\n",
       "      <td>461</td>\n",
       "      <td>48</td>\n",
       "      <td>47</td>\n",
       "      <td>4144</td>\n",
       "      <td>555</td>\n",
       "    </tr>\n",
       "    <tr>\n",
       "      <th>553</th>\n",
       "      <td>554</td>\n",
       "      <td>73</td>\n",
       "      <td>47</td>\n",
       "      <td>4590</td>\n",
       "      <td>555</td>\n",
       "    </tr>\n",
       "    <tr>\n",
       "      <th>754</th>\n",
       "      <td>755</td>\n",
       "      <td>45</td>\n",
       "      <td>42</td>\n",
       "      <td>4373</td>\n",
       "      <td>555</td>\n",
       "    </tr>\n",
       "    <tr>\n",
       "      <th>830</th>\n",
       "      <td>831</td>\n",
       "      <td>35</td>\n",
       "      <td>44</td>\n",
       "      <td>4741</td>\n",
       "      <td>555</td>\n",
       "    </tr>\n",
       "  </tbody>\n",
       "</table>\n",
       "</div>"
      ],
      "text/plain": [
       "     Customer ID  Recency  Frequency (Usage in Last 12 Months)  \\\n",
       "130          131       77                                   49   \n",
       "249          250       83                                   46   \n",
       "460          461       48                                   47   \n",
       "553          554       73                                   47   \n",
       "754          755       45                                   42   \n",
       "830          831       35                                   44   \n",
       "\n",
       "     Total Spending (TL) RFM_Score  \n",
       "130                 4166       555  \n",
       "249                 4947       555  \n",
       "460                 4144       555  \n",
       "553                 4590       555  \n",
       "754                 4373       555  \n",
       "830                 4741       555  "
      ]
     },
     "execution_count": 14,
     "metadata": {},
     "output_type": "execute_result"
    }
   ],
   "source": [
    "cols = ['Customer ID', 'Recency', 'Frequency (Usage in Last 12 Months)', 'Total Spending (TL)', 'RFM_Score']\n",
    "champions[cols].head(10)"
   ]
  },
  {
   "cell_type": "code",
   "execution_count": 15,
   "metadata": {},
   "outputs": [
    {
     "data": {
      "text/html": [
       "<div>\n",
       "<style scoped>\n",
       "    .dataframe tbody tr th:only-of-type {\n",
       "        vertical-align: middle;\n",
       "    }\n",
       "\n",
       "    .dataframe tbody tr th {\n",
       "        vertical-align: top;\n",
       "    }\n",
       "\n",
       "    .dataframe thead th {\n",
       "        text-align: right;\n",
       "    }\n",
       "</style>\n",
       "<table border=\"1\" class=\"dataframe\">\n",
       "  <thead>\n",
       "    <tr style=\"text-align: right;\">\n",
       "      <th></th>\n",
       "      <th>Segment</th>\n",
       "      <th>Customer ID</th>\n",
       "      <th>Recency</th>\n",
       "      <th>Frequency (Usage in Last 12 Months)</th>\n",
       "      <th>Total Spending (TL)</th>\n",
       "      <th>RFM_Score</th>\n",
       "    </tr>\n",
       "  </thead>\n",
       "  <tbody>\n",
       "    <tr>\n",
       "      <th>0</th>\n",
       "      <td>Champions</td>\n",
       "      <td>131</td>\n",
       "      <td>77</td>\n",
       "      <td>49</td>\n",
       "      <td>4166</td>\n",
       "      <td>555</td>\n",
       "    </tr>\n",
       "    <tr>\n",
       "      <th>1</th>\n",
       "      <td>Champions</td>\n",
       "      <td>250</td>\n",
       "      <td>83</td>\n",
       "      <td>46</td>\n",
       "      <td>4947</td>\n",
       "      <td>555</td>\n",
       "    </tr>\n",
       "    <tr>\n",
       "      <th>2</th>\n",
       "      <td>Champions</td>\n",
       "      <td>461</td>\n",
       "      <td>48</td>\n",
       "      <td>47</td>\n",
       "      <td>4144</td>\n",
       "      <td>555</td>\n",
       "    </tr>\n",
       "    <tr>\n",
       "      <th>3</th>\n",
       "      <td>Champions</td>\n",
       "      <td>554</td>\n",
       "      <td>73</td>\n",
       "      <td>47</td>\n",
       "      <td>4590</td>\n",
       "      <td>555</td>\n",
       "    </tr>\n",
       "    <tr>\n",
       "      <th>4</th>\n",
       "      <td>Champions</td>\n",
       "      <td>755</td>\n",
       "      <td>45</td>\n",
       "      <td>42</td>\n",
       "      <td>4373</td>\n",
       "      <td>555</td>\n",
       "    </tr>\n",
       "    <tr>\n",
       "      <th>5</th>\n",
       "      <td>Champions</td>\n",
       "      <td>831</td>\n",
       "      <td>35</td>\n",
       "      <td>44</td>\n",
       "      <td>4741</td>\n",
       "      <td>555</td>\n",
       "    </tr>\n",
       "    <tr>\n",
       "      <th>6</th>\n",
       "      <td>Loyal Big-Spenders</td>\n",
       "      <td>23</td>\n",
       "      <td>92</td>\n",
       "      <td>49</td>\n",
       "      <td>3974</td>\n",
       "      <td>554</td>\n",
       "    </tr>\n",
       "    <tr>\n",
       "      <th>7</th>\n",
       "      <td>Loyal Big-Spenders</td>\n",
       "      <td>78</td>\n",
       "      <td>35</td>\n",
       "      <td>37</td>\n",
       "      <td>3772</td>\n",
       "      <td>544</td>\n",
       "    </tr>\n",
       "    <tr>\n",
       "      <th>8</th>\n",
       "      <td>Loyal Big-Spenders</td>\n",
       "      <td>108</td>\n",
       "      <td>37</td>\n",
       "      <td>50</td>\n",
       "      <td>3961</td>\n",
       "      <td>554</td>\n",
       "    </tr>\n",
       "    <tr>\n",
       "      <th>9</th>\n",
       "      <td>Loyal Big-Spenders</td>\n",
       "      <td>115</td>\n",
       "      <td>86</td>\n",
       "      <td>33</td>\n",
       "      <td>3709</td>\n",
       "      <td>544</td>\n",
       "    </tr>\n",
       "    <tr>\n",
       "      <th>10</th>\n",
       "      <td>Loyal Big-Spenders</td>\n",
       "      <td>120</td>\n",
       "      <td>133</td>\n",
       "      <td>47</td>\n",
       "      <td>4743</td>\n",
       "      <td>455</td>\n",
       "    </tr>\n",
       "    <tr>\n",
       "      <th>11</th>\n",
       "      <td>Loyal Big-Spenders</td>\n",
       "      <td>145</td>\n",
       "      <td>74</td>\n",
       "      <td>44</td>\n",
       "      <td>3907</td>\n",
       "      <td>554</td>\n",
       "    </tr>\n",
       "    <tr>\n",
       "      <th>12</th>\n",
       "      <td>Loyal Big-Spenders</td>\n",
       "      <td>210</td>\n",
       "      <td>27</td>\n",
       "      <td>40</td>\n",
       "      <td>3724</td>\n",
       "      <td>544</td>\n",
       "    </tr>\n",
       "    <tr>\n",
       "      <th>13</th>\n",
       "      <td>Loyal Big-Spenders</td>\n",
       "      <td>264</td>\n",
       "      <td>166</td>\n",
       "      <td>42</td>\n",
       "      <td>4769</td>\n",
       "      <td>455</td>\n",
       "    </tr>\n",
       "    <tr>\n",
       "      <th>14</th>\n",
       "      <td>Loyal Big-Spenders</td>\n",
       "      <td>286</td>\n",
       "      <td>28</td>\n",
       "      <td>35</td>\n",
       "      <td>3172</td>\n",
       "      <td>544</td>\n",
       "    </tr>\n",
       "    <tr>\n",
       "      <th>15</th>\n",
       "      <td>Loyal Big-Spenders</td>\n",
       "      <td>301</td>\n",
       "      <td>59</td>\n",
       "      <td>50</td>\n",
       "      <td>3843</td>\n",
       "      <td>554</td>\n",
       "    </tr>\n",
       "    <tr>\n",
       "      <th>16</th>\n",
       "      <td>Loyal Big-Spenders</td>\n",
       "      <td>422</td>\n",
       "      <td>68</td>\n",
       "      <td>33</td>\n",
       "      <td>4386</td>\n",
       "      <td>545</td>\n",
       "    </tr>\n",
       "    <tr>\n",
       "      <th>17</th>\n",
       "      <td>Loyal Big-Spenders</td>\n",
       "      <td>445</td>\n",
       "      <td>81</td>\n",
       "      <td>33</td>\n",
       "      <td>4678</td>\n",
       "      <td>545</td>\n",
       "    </tr>\n",
       "    <tr>\n",
       "      <th>18</th>\n",
       "      <td>Loyal Big-Spenders</td>\n",
       "      <td>562</td>\n",
       "      <td>60</td>\n",
       "      <td>43</td>\n",
       "      <td>3439</td>\n",
       "      <td>554</td>\n",
       "    </tr>\n",
       "    <tr>\n",
       "      <th>19</th>\n",
       "      <td>Loyal Big-Spenders</td>\n",
       "      <td>597</td>\n",
       "      <td>36</td>\n",
       "      <td>34</td>\n",
       "      <td>3291</td>\n",
       "      <td>544</td>\n",
       "    </tr>\n",
       "    <tr>\n",
       "      <th>20</th>\n",
       "      <td>Loyal Big-Spenders</td>\n",
       "      <td>622</td>\n",
       "      <td>95</td>\n",
       "      <td>32</td>\n",
       "      <td>3268</td>\n",
       "      <td>544</td>\n",
       "    </tr>\n",
       "    <tr>\n",
       "      <th>21</th>\n",
       "      <td>Loyal Big-Spenders</td>\n",
       "      <td>659</td>\n",
       "      <td>33</td>\n",
       "      <td>37</td>\n",
       "      <td>4914</td>\n",
       "      <td>545</td>\n",
       "    </tr>\n",
       "    <tr>\n",
       "      <th>22</th>\n",
       "      <td>Loyal Big-Spenders</td>\n",
       "      <td>693</td>\n",
       "      <td>68</td>\n",
       "      <td>50</td>\n",
       "      <td>3457</td>\n",
       "      <td>554</td>\n",
       "    </tr>\n",
       "    <tr>\n",
       "      <th>23</th>\n",
       "      <td>Loyal Big-Spenders</td>\n",
       "      <td>725</td>\n",
       "      <td>85</td>\n",
       "      <td>38</td>\n",
       "      <td>3542</td>\n",
       "      <td>544</td>\n",
       "    </tr>\n",
       "    <tr>\n",
       "      <th>24</th>\n",
       "      <td>Loyal Big-Spenders</td>\n",
       "      <td>746</td>\n",
       "      <td>54</td>\n",
       "      <td>37</td>\n",
       "      <td>4448</td>\n",
       "      <td>545</td>\n",
       "    </tr>\n",
       "    <tr>\n",
       "      <th>25</th>\n",
       "      <td>Loyal Big-Spenders</td>\n",
       "      <td>759</td>\n",
       "      <td>81</td>\n",
       "      <td>44</td>\n",
       "      <td>3265</td>\n",
       "      <td>554</td>\n",
       "    </tr>\n",
       "    <tr>\n",
       "      <th>26</th>\n",
       "      <td>Loyal Big-Spenders</td>\n",
       "      <td>810</td>\n",
       "      <td>86</td>\n",
       "      <td>32</td>\n",
       "      <td>3454</td>\n",
       "      <td>544</td>\n",
       "    </tr>\n",
       "    <tr>\n",
       "      <th>27</th>\n",
       "      <td>Loyal Big-Spenders</td>\n",
       "      <td>829</td>\n",
       "      <td>78</td>\n",
       "      <td>39</td>\n",
       "      <td>4234</td>\n",
       "      <td>545</td>\n",
       "    </tr>\n",
       "    <tr>\n",
       "      <th>28</th>\n",
       "      <td>Loyal Big-Spenders</td>\n",
       "      <td>897</td>\n",
       "      <td>80</td>\n",
       "      <td>40</td>\n",
       "      <td>4273</td>\n",
       "      <td>545</td>\n",
       "    </tr>\n",
       "    <tr>\n",
       "      <th>29</th>\n",
       "      <td>Loyal Big-Spenders</td>\n",
       "      <td>920</td>\n",
       "      <td>56</td>\n",
       "      <td>41</td>\n",
       "      <td>4784</td>\n",
       "      <td>545</td>\n",
       "    </tr>\n",
       "  </tbody>\n",
       "</table>\n",
       "</div>"
      ],
      "text/plain": [
       "               Segment  Customer ID  Recency  \\\n",
       "0            Champions          131       77   \n",
       "1            Champions          250       83   \n",
       "2            Champions          461       48   \n",
       "3            Champions          554       73   \n",
       "4            Champions          755       45   \n",
       "5            Champions          831       35   \n",
       "6   Loyal Big-Spenders           23       92   \n",
       "7   Loyal Big-Spenders           78       35   \n",
       "8   Loyal Big-Spenders          108       37   \n",
       "9   Loyal Big-Spenders          115       86   \n",
       "10  Loyal Big-Spenders          120      133   \n",
       "11  Loyal Big-Spenders          145       74   \n",
       "12  Loyal Big-Spenders          210       27   \n",
       "13  Loyal Big-Spenders          264      166   \n",
       "14  Loyal Big-Spenders          286       28   \n",
       "15  Loyal Big-Spenders          301       59   \n",
       "16  Loyal Big-Spenders          422       68   \n",
       "17  Loyal Big-Spenders          445       81   \n",
       "18  Loyal Big-Spenders          562       60   \n",
       "19  Loyal Big-Spenders          597       36   \n",
       "20  Loyal Big-Spenders          622       95   \n",
       "21  Loyal Big-Spenders          659       33   \n",
       "22  Loyal Big-Spenders          693       68   \n",
       "23  Loyal Big-Spenders          725       85   \n",
       "24  Loyal Big-Spenders          746       54   \n",
       "25  Loyal Big-Spenders          759       81   \n",
       "26  Loyal Big-Spenders          810       86   \n",
       "27  Loyal Big-Spenders          829       78   \n",
       "28  Loyal Big-Spenders          897       80   \n",
       "29  Loyal Big-Spenders          920       56   \n",
       "\n",
       "    Frequency (Usage in Last 12 Months)  Total Spending (TL) RFM_Score  \n",
       "0                                    49                 4166       555  \n",
       "1                                    46                 4947       555  \n",
       "2                                    47                 4144       555  \n",
       "3                                    47                 4590       555  \n",
       "4                                    42                 4373       555  \n",
       "5                                    44                 4741       555  \n",
       "6                                    49                 3974       554  \n",
       "7                                    37                 3772       544  \n",
       "8                                    50                 3961       554  \n",
       "9                                    33                 3709       544  \n",
       "10                                   47                 4743       455  \n",
       "11                                   44                 3907       554  \n",
       "12                                   40                 3724       544  \n",
       "13                                   42                 4769       455  \n",
       "14                                   35                 3172       544  \n",
       "15                                   50                 3843       554  \n",
       "16                                   33                 4386       545  \n",
       "17                                   33                 4678       545  \n",
       "18                                   43                 3439       554  \n",
       "19                                   34                 3291       544  \n",
       "20                                   32                 3268       544  \n",
       "21                                   37                 4914       545  \n",
       "22                                   50                 3457       554  \n",
       "23                                   38                 3542       544  \n",
       "24                                   37                 4448       545  \n",
       "25                                   44                 3265       554  \n",
       "26                                   32                 3454       544  \n",
       "27                                   39                 4234       545  \n",
       "28                                   40                 4273       545  \n",
       "29                                   41                 4784       545  "
      ]
     },
     "execution_count": 15,
     "metadata": {},
     "output_type": "execute_result"
    }
   ],
   "source": [
    "segments = [\n",
    "    champions.assign(Segment='Champions'),\n",
    "    loyal_big_spenders.assign(Segment='Loyal Big-Spenders'),\n",
    "    high_value_cluster.assign(Segment='High-Value Cluster')\n",
    "]\n",
    "\n",
    "combined = pd.concat(segments, ignore_index=True)\n",
    "\n",
    "cols = ['Segment', 'Customer ID', 'Recency', 'Frequency (Usage in Last 12 Months)', 'Total Spending (TL)', 'RFM_Score']\n",
    "\n",
    "combined[cols].head(30)\n"
   ]
  },
  {
   "cell_type": "code",
   "execution_count": 16,
   "metadata": {},
   "outputs": [
    {
     "name": "stderr",
     "output_type": "stream",
     "text": [
      "/var/folders/1z/j73pt9wx3dj89j3b5hd6qyhh0000gn/T/ipykernel_1940/2385694523.py:14: FutureWarning: \n",
      "\n",
      "Passing `palette` without assigning `hue` is deprecated and will be removed in v0.14.0. Assign the `x` variable to `hue` and set `legend=False` for the same effect.\n",
      "\n",
      "  g = sns.catplot(\n",
      "/var/folders/1z/j73pt9wx3dj89j3b5hd6qyhh0000gn/T/ipykernel_1940/2385694523.py:25: UserWarning: set_ticklabels() should only be used with a fixed number of ticks, i.e. after set_ticks() or using a FixedLocator.\n",
      "  ax.set_xticklabels(ax.get_xticklabels(), rotation=20, ha='right')\n",
      "/var/folders/1z/j73pt9wx3dj89j3b5hd6qyhh0000gn/T/ipykernel_1940/2385694523.py:25: UserWarning: set_ticklabels() should only be used with a fixed number of ticks, i.e. after set_ticks() or using a FixedLocator.\n",
      "  ax.set_xticklabels(ax.get_xticklabels(), rotation=20, ha='right')\n",
      "/var/folders/1z/j73pt9wx3dj89j3b5hd6qyhh0000gn/T/ipykernel_1940/2385694523.py:25: UserWarning: set_ticklabels() should only be used with a fixed number of ticks, i.e. after set_ticks() or using a FixedLocator.\n",
      "  ax.set_xticklabels(ax.get_xticklabels(), rotation=20, ha='right')\n"
     ]
    },
    {
     "data": {
      "image/png": "[encoded data removed]",
      "text/plain": [
       "<Figure size 1080x400 with 3 Axes>"
      ]
     },
     "metadata": {},
     "output_type": "display_data"
    }
   ],
   "source": [
    "# plot\n",
    "\n",
    "metrics = ['Recency', 'Frequency (Usage in Last 12 Months)', 'Total Spending (TL)']\n",
    "\n",
    "seg_mean = (combined.groupby('Segment')[metrics]\n",
    "            .mean()\n",
    "            .round(0).astype(int)\n",
    "            .reset_index()\n",
    "            .melt(id_vars='Segment',\n",
    "                  var_name='Metric', value_name='Mean'))\n",
    "\n",
    "sns.set_style('whitegrid')\n",
    "\n",
    "g = sns.catplot(\n",
    "    data=seg_mean,\n",
    "    x='Segment', y='Mean',\n",
    "    col='Metric', kind='bar',\n",
    "    palette='Blues_r',\n",
    "    sharey=False, height=4, aspect=0.9\n",
    ")\n",
    "\n",
    "g.fig.suptitle('Average RFM for Champions vs Loyal Big-Spenders vs High-Value Cluster', y=1.05)\n",
    "\n",
    "for ax in g.axes.flat:\n",
    "    ax.set_xticklabels(ax.get_xticklabels(), rotation=20, ha='right')\n",
    "    for bars in ax.containers:\n",
    "        ax.bar_label(bars, fmt='%d', padding=3)\n",
    "    ax.set_xlabel('')\n",
    "    ax.set_ylabel('')\n",
    "\n",
    "plt.tight_layout()\n",
    "plt.show()\n"
   ]
  },
  {
   "cell_type": "markdown",
   "metadata": {},
   "source": [
    "## Determine the characteristics of low-value segments."
   ]
  },
  {
   "cell_type": "markdown",
   "metadata": {},
   "source": [
    "### Criteria for low value segments will be that they are those whose overall RFM score is 222 or lower (e.g., 111, 122, 212)."
   ]
  },
  {
   "cell_type": "code",
   "execution_count": 17,
   "metadata": {},
   "outputs": [
    {
     "data": {
      "text/plain": [
       "65"
      ]
     },
     "execution_count": 17,
     "metadata": {},
     "output_type": "execute_result"
    }
   ],
   "source": [
    "low_value = df[\n",
    "    (df['R_Score'].astype(int) <= 2) &   # not recent\n",
    "    (df['F_Score'].astype(int) <= 2) &   # ride rarely\n",
    "    (df['M_Score'].astype(int) <= 2)     # spend little\n",
    "]\n",
    "\n",
    "len(low_value)"
   ]
  },
  {
   "cell_type": "code",
   "execution_count": 18,
   "metadata": {},
   "outputs": [
    {
     "data": {
      "text/html": [
       "<div>\n",
       "<style scoped>\n",
       "    .dataframe tbody tr th:only-of-type {\n",
       "        vertical-align: middle;\n",
       "    }\n",
       "\n",
       "    .dataframe tbody tr th {\n",
       "        vertical-align: top;\n",
       "    }\n",
       "\n",
       "    .dataframe thead th {\n",
       "        text-align: right;\n",
       "    }\n",
       "</style>\n",
       "<table border=\"1\" class=\"dataframe\">\n",
       "  <thead>\n",
       "    <tr style=\"text-align: right;\">\n",
       "      <th></th>\n",
       "      <th>Customer ID</th>\n",
       "      <th>Recency</th>\n",
       "      <th>Frequency (Usage in Last 12 Months)</th>\n",
       "      <th>Total Spending (TL)</th>\n",
       "      <th>RFM_Score</th>\n",
       "    </tr>\n",
       "  </thead>\n",
       "  <tbody>\n",
       "    <tr>\n",
       "      <th>44</th>\n",
       "      <td>45</td>\n",
       "      <td>316</td>\n",
       "      <td>14</td>\n",
       "      <td>1176</td>\n",
       "      <td>222</td>\n",
       "    </tr>\n",
       "    <tr>\n",
       "      <th>56</th>\n",
       "      <td>57</td>\n",
       "      <td>271</td>\n",
       "      <td>12</td>\n",
       "      <td>782</td>\n",
       "      <td>221</td>\n",
       "    </tr>\n",
       "    <tr>\n",
       "      <th>74</th>\n",
       "      <td>75</td>\n",
       "      <td>325</td>\n",
       "      <td>21</td>\n",
       "      <td>929</td>\n",
       "      <td>121</td>\n",
       "    </tr>\n",
       "    <tr>\n",
       "      <th>105</th>\n",
       "      <td>106</td>\n",
       "      <td>355</td>\n",
       "      <td>15</td>\n",
       "      <td>1563</td>\n",
       "      <td>122</td>\n",
       "    </tr>\n",
       "    <tr>\n",
       "      <th>125</th>\n",
       "      <td>126</td>\n",
       "      <td>332</td>\n",
       "      <td>17</td>\n",
       "      <td>1018</td>\n",
       "      <td>121</td>\n",
       "    </tr>\n",
       "  </tbody>\n",
       "</table>\n",
       "</div>"
      ],
      "text/plain": [
       "     Customer ID  Recency  Frequency (Usage in Last 12 Months)  \\\n",
       "44            45      316                                   14   \n",
       "56            57      271                                   12   \n",
       "74            75      325                                   21   \n",
       "105          106      355                                   15   \n",
       "125          126      332                                   17   \n",
       "\n",
       "     Total Spending (TL) RFM_Score  \n",
       "44                  1176       222  \n",
       "56                   782       221  \n",
       "74                   929       121  \n",
       "105                 1563       122  \n",
       "125                 1018       121  "
      ]
     },
     "execution_count": 18,
     "metadata": {},
     "output_type": "execute_result"
    }
   ],
   "source": [
    "low_value[['Customer ID',\n",
    "           'Recency',\n",
    "           'Frequency (Usage in Last 12 Months)',\n",
    "           'Total Spending (TL)',\n",
    "           'RFM_Score']].head()\n"
   ]
  },
  {
   "cell_type": "code",
   "execution_count": 19,
   "metadata": {},
   "outputs": [
    {
     "name": "stdout",
     "output_type": "stream",
     "text": [
      "                                     min   max  mean  count\n",
      "Recency                              248   384   319     65\n",
      "Frequency (Usage in Last 12 Months)    2    22    12     65\n",
      "Total Spending (TL)                   55  2048  1042     65\n"
     ]
    }
   ],
   "source": [
    "\n",
    "low_stats = (\n",
    "    low_value[['Recency',\n",
    "               'Frequency (Usage in Last 12 Months)',\n",
    "               'Total Spending (TL)']]\n",
    "      .agg(['min', 'max', 'mean', 'count'])\n",
    "      .round(0).astype(int)\n",
    "      .T[['min', 'max', 'mean', 'count']]\n",
    ")\n",
    "\n",
    "print(low_stats)\n"
   ]
  },
  {
   "cell_type": "markdown",
   "metadata": {},
   "source": [
    "### Characteristics of low-value segments:\n",
    "\n",
    "- Recency for these users shows 8–13 months. \n",
    "\n",
    "- Frequency is between 2–22 (avg 1 ride/month).\n",
    "\n",
    "- Lifetime spend per user is between ₺55 and ₺2 048 (mean = ₺1 042), well below core segments.\n",
    "\n",
    "- In short, these customers were lightly engaged and have been dormant for nearly a year, making them ideal targets for a low-cost win-back or removal from expensive marketing lists."
   ]
  },
  {
   "cell_type": "code",
   "execution_count": 20,
   "metadata": {},
   "outputs": [
    {
     "name": "stderr",
     "output_type": "stream",
     "text": [
      "/var/folders/1z/j73pt9wx3dj89j3b5hd6qyhh0000gn/T/ipykernel_1940/2779663381.py:8: FutureWarning: \n",
      "\n",
      "Passing `palette` without assigning `hue` is deprecated and will be removed in v0.14.0. Assign the `x` variable to `hue` and set `legend=False` for the same effect.\n",
      "\n",
      "  g = sns.catplot(data=plot_df,\n"
     ]
    },
    {
     "data": {
      "image/png": "[encoded data removed]",
      "text/plain": [
       "<Figure size 960x400 with 3 Axes>"
      ]
     },
     "metadata": {},
     "output_type": "display_data"
    }
   ],
   "source": [
    "plot_df = (low_stats.reset_index()\n",
    "                     .melt(id_vars='index',\n",
    "                           var_name='Statistic',\n",
    "                           value_name='Value')\n",
    "                     .rename(columns={'index':'Metric'}))\n",
    "\n",
    "sns.set_style('whitegrid')\n",
    "g = sns.catplot(data=plot_df,\n",
    "                x='Statistic', y='Value',\n",
    "                col='Metric', kind='bar',\n",
    "                palette='Blues_r',\n",
    "                sharey=False,           \n",
    "                height=4, aspect=0.8)\n",
    "\n",
    "g.fig.suptitle('Low-Value Segment – Min / Mean / Max Metrics', y=1.05)\n",
    "\n",
    "for ax in g.axes.flat:\n",
    "    for bars in ax.containers:\n",
    "        ax.bar_label(bars, fmt='%d', padding=3)\n",
    "    ax.set_xlabel('')\n",
    "    ax.set_ylabel('')\n",
    "\n",
    "plt.tight_layout()\n",
    "plt.show()"
   ]
  },
  {
   "cell_type": "markdown",
   "metadata": {},
   "source": [
    "## Highlight segments with growth potential."
   ]
  },
  {
   "cell_type": "markdown",
   "metadata": {},
   "source": [
    "### Segment #1 - \"Potential Loyalists\"\n",
    "\n",
    "Those will be the customers who ride recently and fairly often but haven’t started spending big yet. Therefore, users whose R-score is 4-5 (recent), whose F-score is ≥ 3 (decent usage), and whose M-score is ≤ 3 (mid-/low spend) will be targeted. The idea here is to find people who have ridden recently, who ride fairly often, and to make them spend more than they usually do."
   ]
  },
  {
   "cell_type": "code",
   "execution_count": 21,
   "metadata": {},
   "outputs": [
    {
     "data": {
      "text/html": [
       "<div>\n",
       "<style scoped>\n",
       "    .dataframe tbody tr th:only-of-type {\n",
       "        vertical-align: middle;\n",
       "    }\n",
       "\n",
       "    .dataframe tbody tr th {\n",
       "        vertical-align: top;\n",
       "    }\n",
       "\n",
       "    .dataframe thead th {\n",
       "        text-align: right;\n",
       "    }\n",
       "</style>\n",
       "<table border=\"1\" class=\"dataframe\">\n",
       "  <thead>\n",
       "    <tr style=\"text-align: right;\">\n",
       "      <th></th>\n",
       "      <th>Customer ID</th>\n",
       "      <th>Recency</th>\n",
       "      <th>Frequency (Usage in Last 12 Months)</th>\n",
       "      <th>Total Spending (TL)</th>\n",
       "      <th>RFM_Score</th>\n",
       "    </tr>\n",
       "  </thead>\n",
       "  <tbody>\n",
       "    <tr>\n",
       "      <th>7</th>\n",
       "      <td>8</td>\n",
       "      <td>163</td>\n",
       "      <td>49</td>\n",
       "      <td>2407</td>\n",
       "      <td>453</td>\n",
       "    </tr>\n",
       "    <tr>\n",
       "      <th>14</th>\n",
       "      <td>15</td>\n",
       "      <td>61</td>\n",
       "      <td>43</td>\n",
       "      <td>1249</td>\n",
       "      <td>552</td>\n",
       "    </tr>\n",
       "    <tr>\n",
       "      <th>15</th>\n",
       "      <td>16</td>\n",
       "      <td>168</td>\n",
       "      <td>28</td>\n",
       "      <td>2429</td>\n",
       "      <td>433</td>\n",
       "    </tr>\n",
       "    <tr>\n",
       "      <th>16</th>\n",
       "      <td>17</td>\n",
       "      <td>142</td>\n",
       "      <td>32</td>\n",
       "      <td>394</td>\n",
       "      <td>441</td>\n",
       "    </tr>\n",
       "    <tr>\n",
       "      <th>17</th>\n",
       "      <td>18</td>\n",
       "      <td>161</td>\n",
       "      <td>39</td>\n",
       "      <td>2406</td>\n",
       "      <td>443</td>\n",
       "    </tr>\n",
       "  </tbody>\n",
       "</table>\n",
       "</div>"
      ],
      "text/plain": [
       "    Customer ID  Recency  Frequency (Usage in Last 12 Months)  \\\n",
       "7             8      163                                   49   \n",
       "14           15       61                                   43   \n",
       "15           16      168                                   28   \n",
       "16           17      142                                   32   \n",
       "17           18      161                                   39   \n",
       "\n",
       "    Total Spending (TL) RFM_Score  \n",
       "7                  2407       453  \n",
       "14                 1249       552  \n",
       "15                 2429       433  \n",
       "16                  394       441  \n",
       "17                 2406       443  "
      ]
     },
     "execution_count": 21,
     "metadata": {},
     "output_type": "execute_result"
    }
   ],
   "source": [
    "potential_loyalists = df[\n",
    "    (df['R_Score'].astype(int) >= 4) &          \n",
    "    (df['F_Score'].astype(int) >= 3) &         \n",
    "    (df['M_Score'].astype(int) <= 3)            \n",
    "]\n",
    "\n",
    "cols = ['Customer ID', 'Recency',\n",
    "        'Frequency (Usage in Last 12 Months)',\n",
    "        'Total Spending (TL)', 'RFM_Score']\n",
    "potential_loyalists[cols].head()  \n",
    "\n"
   ]
  },
  {
   "cell_type": "code",
   "execution_count": 22,
   "metadata": {},
   "outputs": [
    {
     "name": "stdout",
     "output_type": "stream",
     "text": [
      "Potential Loyalists: 134\n"
     ]
    }
   ],
   "source": [
    "print(\"Potential Loyalists:\", len(potential_loyalists))"
   ]
  },
  {
   "cell_type": "markdown",
   "metadata": {},
   "source": [
    "### Why do Potential Loyalists matter?\n",
    "\n",
    "- They’re active and forming a habit (high R, good F).\n",
    "\n",
    "- Spending is still moderate (low M) → plenty of headroom for upsell.\n",
    "\n",
    "- Timely incentives (loyalty points, ride bundles) can nudge them into the high-value “Loyal Big-Spender” tier."
   ]
  },
  {
   "cell_type": "markdown",
   "metadata": {},
   "source": [
    "### Segment #2 - \"New Customers\""
   ]
  },
  {
   "cell_type": "markdown",
   "metadata": {},
   "source": [
    "This segment includes those who are recent, ride rarely so far, and spend low."
   ]
  },
  {
   "cell_type": "code",
   "execution_count": 23,
   "metadata": {},
   "outputs": [
    {
     "data": {
      "text/html": [
       "<div>\n",
       "<style scoped>\n",
       "    .dataframe tbody tr th:only-of-type {\n",
       "        vertical-align: middle;\n",
       "    }\n",
       "\n",
       "    .dataframe tbody tr th {\n",
       "        vertical-align: top;\n",
       "    }\n",
       "\n",
       "    .dataframe thead th {\n",
       "        text-align: right;\n",
       "    }\n",
       "</style>\n",
       "<table border=\"1\" class=\"dataframe\">\n",
       "  <thead>\n",
       "    <tr style=\"text-align: right;\">\n",
       "      <th></th>\n",
       "      <th>Customer ID</th>\n",
       "      <th>Recency</th>\n",
       "      <th>Frequency (Usage in Last 12 Months)</th>\n",
       "      <th>Total Spending (TL)</th>\n",
       "      <th>RFM_Score</th>\n",
       "    </tr>\n",
       "  </thead>\n",
       "  <tbody>\n",
       "    <tr>\n",
       "      <th>37</th>\n",
       "      <td>38</td>\n",
       "      <td>53</td>\n",
       "      <td>15</td>\n",
       "      <td>1957</td>\n",
       "      <td>522</td>\n",
       "    </tr>\n",
       "    <tr>\n",
       "      <th>43</th>\n",
       "      <td>44</td>\n",
       "      <td>32</td>\n",
       "      <td>20</td>\n",
       "      <td>873</td>\n",
       "      <td>521</td>\n",
       "    </tr>\n",
       "    <tr>\n",
       "      <th>61</th>\n",
       "      <td>62</td>\n",
       "      <td>36</td>\n",
       "      <td>15</td>\n",
       "      <td>1484</td>\n",
       "      <td>522</td>\n",
       "    </tr>\n",
       "    <tr>\n",
       "      <th>69</th>\n",
       "      <td>70</td>\n",
       "      <td>87</td>\n",
       "      <td>3</td>\n",
       "      <td>356</td>\n",
       "      <td>511</td>\n",
       "    </tr>\n",
       "    <tr>\n",
       "      <th>104</th>\n",
       "      <td>105</td>\n",
       "      <td>57</td>\n",
       "      <td>22</td>\n",
       "      <td>831</td>\n",
       "      <td>521</td>\n",
       "    </tr>\n",
       "  </tbody>\n",
       "</table>\n",
       "</div>"
      ],
      "text/plain": [
       "     Customer ID  Recency  Frequency (Usage in Last 12 Months)  \\\n",
       "37            38       53                                   15   \n",
       "43            44       32                                   20   \n",
       "61            62       36                                   15   \n",
       "69            70       87                                    3   \n",
       "104          105       57                                   22   \n",
       "\n",
       "     Total Spending (TL) RFM_Score  \n",
       "37                  1957       522  \n",
       "43                   873       521  \n",
       "61                  1484       522  \n",
       "69                   356       511  \n",
       "104                  831       521  "
      ]
     },
     "execution_count": 23,
     "metadata": {},
     "output_type": "execute_result"
    }
   ],
   "source": [
    "new_customers = df[\n",
    "    (df['R_Score'].astype(int) == 5) &\n",
    "    (df['F_Score'].astype(int) <= 2) &\n",
    "    (df['M_Score'].astype(int) <= 2)\n",
    "]\n",
    "\n",
    "cols = ['Customer ID', 'Recency',\n",
    "        'Frequency (Usage in Last 12 Months)',\n",
    "        'Total Spending (TL)', 'RFM_Score']\n",
    "new_customers[cols].head()"
   ]
  },
  {
   "cell_type": "code",
   "execution_count": 24,
   "metadata": {},
   "outputs": [
    {
     "name": "stdout",
     "output_type": "stream",
     "text": [
      "New Customers: 31\n"
     ]
    }
   ],
   "source": [
    "print(\"New Customers:\", len(new_customers))"
   ]
  },
  {
   "cell_type": "markdown",
   "metadata": {},
   "source": [
    "### Why do New Customers matter?\n",
    "\n",
    "- Retention is cheapest now: a small welcome bonus can turn a one-off rider into a regular user.\n",
    "\n",
    "- Early re-engagement multiplies lifetime value. Returning within the first month often increases eventual spend.\n",
    "\n",
    "- A smooth first-ride experience locks in trust and referrals, reducing future acquisition costs."
   ]
  },
  {
   "cell_type": "markdown",
   "metadata": {},
   "source": [
    "### Segment #3 - \"Promising\""
   ]
  },
  {
   "cell_type": "markdown",
   "metadata": {},
   "source": [
    "These are the customers who have recently used the app and already taken a few rides, but whose spend is still relatively low."
   ]
  },
  {
   "cell_type": "code",
   "execution_count": 25,
   "metadata": {},
   "outputs": [
    {
     "data": {
      "text/html": [
       "<div>\n",
       "<style scoped>\n",
       "    .dataframe tbody tr th:only-of-type {\n",
       "        vertical-align: middle;\n",
       "    }\n",
       "\n",
       "    .dataframe tbody tr th {\n",
       "        vertical-align: top;\n",
       "    }\n",
       "\n",
       "    .dataframe thead th {\n",
       "        text-align: right;\n",
       "    }\n",
       "</style>\n",
       "<table border=\"1\" class=\"dataframe\">\n",
       "  <thead>\n",
       "    <tr style=\"text-align: right;\">\n",
       "      <th></th>\n",
       "      <th>Customer ID</th>\n",
       "      <th>Recency</th>\n",
       "      <th>Frequency (Usage in Last 12 Months)</th>\n",
       "      <th>Total Spending (TL)</th>\n",
       "      <th>RFM_Score</th>\n",
       "    </tr>\n",
       "  </thead>\n",
       "  <tbody>\n",
       "    <tr>\n",
       "      <th>24</th>\n",
       "      <td>25</td>\n",
       "      <td>140</td>\n",
       "      <td>8</td>\n",
       "      <td>1705</td>\n",
       "      <td>412</td>\n",
       "    </tr>\n",
       "    <tr>\n",
       "      <th>37</th>\n",
       "      <td>38</td>\n",
       "      <td>53</td>\n",
       "      <td>15</td>\n",
       "      <td>1957</td>\n",
       "      <td>522</td>\n",
       "    </tr>\n",
       "    <tr>\n",
       "      <th>38</th>\n",
       "      <td>39</td>\n",
       "      <td>127</td>\n",
       "      <td>26</td>\n",
       "      <td>480</td>\n",
       "      <td>431</td>\n",
       "    </tr>\n",
       "    <tr>\n",
       "      <th>43</th>\n",
       "      <td>44</td>\n",
       "      <td>32</td>\n",
       "      <td>20</td>\n",
       "      <td>873</td>\n",
       "      <td>521</td>\n",
       "    </tr>\n",
       "    <tr>\n",
       "      <th>55</th>\n",
       "      <td>56</td>\n",
       "      <td>134</td>\n",
       "      <td>28</td>\n",
       "      <td>534</td>\n",
       "      <td>431</td>\n",
       "    </tr>\n",
       "  </tbody>\n",
       "</table>\n",
       "</div>"
      ],
      "text/plain": [
       "    Customer ID  Recency  Frequency (Usage in Last 12 Months)  \\\n",
       "24           25      140                                    8   \n",
       "37           38       53                                   15   \n",
       "38           39      127                                   26   \n",
       "43           44       32                                   20   \n",
       "55           56      134                                   28   \n",
       "\n",
       "    Total Spending (TL) RFM_Score  \n",
       "24                 1705       412  \n",
       "37                 1957       522  \n",
       "38                  480       431  \n",
       "43                  873       521  \n",
       "55                  534       431  "
      ]
     },
     "execution_count": 25,
     "metadata": {},
     "output_type": "execute_result"
    }
   ],
   "source": [
    "promising = df[\n",
    "    (df['R_Score'].astype(int) >= 4) & \n",
    "    (df['F_Score'].astype(int) <= 3) &  \n",
    "    (df['M_Score'].astype(int) <= 2)\n",
    "]\n",
    "\n",
    "cols = ['Customer ID', 'Recency',\n",
    "        'Frequency (Usage in Last 12 Months)',\n",
    "        'Total Spending (TL)', 'RFM_Score']\n",
    "promising[cols].head()"
   ]
  },
  {
   "cell_type": "code",
   "execution_count": 26,
   "metadata": {},
   "outputs": [
    {
     "name": "stdout",
     "output_type": "stream",
     "text": [
      "Promising: 92\n"
     ]
    }
   ],
   "source": [
    "print(\"Promising:\", len(promising))"
   ]
  },
  {
   "cell_type": "markdown",
   "metadata": {},
   "source": [
    "### Why do New Customers matter?\n",
    "\n",
    "- Early habit signals – they’ve come back for a second or third ride, so adoption is under way.\n",
    "\n",
    "- Low current spend – plenty of room to grow basket size with ride bundles or tiered loyalty perks.\n",
    "\n",
    "- Easier lift than brand-new users – they already recognise the value proposition; we are nudging frequency and spend, not teaching the basics."
   ]
  },
  {
   "cell_type": "markdown",
   "metadata": {},
   "source": [
    "### Plot the Mean R_Score, F_Score, and M_Score, Segment by Segment:"
   ]
  },
  {
   "cell_type": "code",
   "execution_count": 27,
   "metadata": {},
   "outputs": [
    {
     "data": {
      "image/png": "[encoded data removed]",
      "text/plain": [
       "<Figure size 1000x500 with 1 Axes>"
      ]
     },
     "metadata": {},
     "output_type": "display_data"
    }
   ],
   "source": [
    "def label_segment(row):\n",
    "    r, f, m, rfm = row['R_Score'], row['F_Score'], row['M_Score'], row['RFM_Score']\n",
    "    if r==5 and f==5 and m==5: return 'Champions'\n",
    "    if rfm in ['554','545','544','455']: return 'Loyal Big-Spenders'\n",
    "    if r==5 and f<=2 and m<=2: return 'New Customers'\n",
    "    if r>=4 and f>=3 and m<=3: return 'Potential Loyalists'\n",
    "    if r>=4 and f==2 and m<=2: return 'Promising'\n",
    "    if r<=3 and (f>=3 or m>=3): return 'At-Risk'\n",
    "    return 'Others'\n",
    "\n",
    "df['Segment'] = df.apply(label_segment, axis=1)\n",
    "\n",
    "score_means = (df.groupby('Segment')[['R_Score', 'F_Score', 'M_Score']]\n",
    "                 .apply(lambda s: s.astype(int).mean())  \n",
    "                 .reset_index()\n",
    "                 .melt(id_vars='Segment',\n",
    "                       var_name='Metric',\n",
    "                       value_name='Mean'))\n",
    "\n",
    "score_means = score_means[score_means['Segment'].isin([\n",
    "    'All Users', 'Promising', 'Potential Loyalists', 'New Customers'\n",
    "])]\n",
    "\n",
    "# 3) Plot\n",
    "import seaborn as sns\n",
    "import matplotlib.pyplot as plt\n",
    "\n",
    "sns.set_style('whitegrid')\n",
    "fig, ax = plt.subplots(figsize=(10,5))\n",
    "\n",
    "sns.barplot(data=score_means,\n",
    "            x='Metric', y='Mean', hue='Segment',\n",
    "            palette='Blues_r', ax=ax)\n",
    "\n",
    "ax.set_title('Mean R, F and M Scores by Segment')\n",
    "ax.set_ylabel('Average Score (1–5)')\n",
    "ax.set_xlabel('')\n",
    "\n",
    "for bars in ax.containers:\n",
    "    ax.bar_label(bars, fmt='%.2f', padding=3)\n",
    "\n",
    "ax.legend(title='Segment',\n",
    "          loc='upper center',\n",
    "          bbox_to_anchor=(0.5, -0.15), ncol=2)\n",
    "\n",
    "plt.tight_layout()\n",
    "plt.show()\n"
   ]
  },
  {
   "cell_type": "markdown",
   "metadata": {},
   "source": [
    "# Step 2: Data-Driven Insights"
   ]
  },
  {
   "cell_type": "markdown",
   "metadata": {},
   "source": [
    "Before we start our suggestions, let's compare the R_score, F_score, and M_score of the segments so that we are backing up our suggestions with our findings. For example, we will not send push notifications such as \"We miss you\" to our high-value or emerging customers right off the bat. However, we'll do that for our churned / low-value customers. Let's take a look:"
   ]
  },
  {
   "cell_type": "markdown",
   "metadata": {},
   "source": [
    "## 1. Which segment represents the most valuable customers? Why?"
   ]
  },
  {
   "cell_type": "markdown",
   "metadata": {},
   "source": [
    "In order to decide which segment represents the most valuable customers, we first need to look at the top segments and compare them. While champions bring the most value per user, they are very few (6 people), and there are not many possibilities to upsell because they are already using the app to the maximum. Instead, if we shift our focus to loyal big spenders (27), we see that much of our revenue are already coming from them, and we have the potential to turn them into champions!\n",
    "\n",
    "Let's compare these segments and understand why we should tag loyal big spenders as the most valuable customers."
   ]
  },
  {
   "cell_type": "code",
   "execution_count": 28,
   "metadata": {},
   "outputs": [
    {
     "name": "stdout",
     "output_type": "stream",
     "text": [
      "                   Metric  Champions  Loyal Big-Spenders\n",
      "           Customer count          6                  27\n",
      "       Total revenue (TL)      26961              106433\n",
      "Revenue per customer (TL)       4493                3941\n"
     ]
    }
   ],
   "source": [
    "# Champions = 555\n",
    "champions = df[\n",
    "    (df['R_Score'].astype(int) == 5) &\n",
    "    (df['F_Score'].astype(int) == 5) &\n",
    "    (df['M_Score'].astype(int) == 5)\n",
    "]\n",
    "\n",
    "# Loyal Big-Spenders = any two 5s + one 4\n",
    "loyal_codes = ['554', '545', '544', '455']\n",
    "loyal_big_spenders = df[df['RFM_Score'].isin(loyal_codes)]\n",
    "\n",
    "# KPI comparison\n",
    "summary = pd.DataFrame({\n",
    "    'Metric': ['Customer count',\n",
    "               'Total revenue (TL)',\n",
    "               'Revenue per customer (TL)'],\n",
    "    'Champions': [\n",
    "        int(len(champions)),\n",
    "        int(champions['Total Spending (TL)'].sum()),\n",
    "        int(champions['Total Spending (TL)'].mean())\n",
    "    ],\n",
    "    'Loyal Big-Spenders': [\n",
    "        int(len(loyal_big_spenders)),\n",
    "        int(loyal_big_spenders['Total Spending (TL)'].sum()),\n",
    "        int(loyal_big_spenders['Total Spending (TL)'].mean())\n",
    "    ]\n",
    "})\n",
    "\n",
    "print(summary.to_string(index=False))\n",
    "\n"
   ]
  },
  {
   "cell_type": "code",
   "execution_count": 29,
   "metadata": {},
   "outputs": [
    {
     "name": "stderr",
     "output_type": "stream",
     "text": [
      "/var/folders/1z/j73pt9wx3dj89j3b5hd6qyhh0000gn/T/ipykernel_1940/1675431350.py:6: FutureWarning: \n",
      "\n",
      "Passing `palette` without assigning `hue` is deprecated and will be removed in v0.14.0. Assign the `x` variable to `hue` and set `legend=False` for the same effect.\n",
      "\n",
      "  g = sns.catplot(data=plot_df,\n"
     ]
    },
    {
     "data": {
      "image/png": "[encoded data removed]",
      "text/plain": [
       "<Figure size 960x400 with 3 Axes>"
      ]
     },
     "metadata": {},
     "output_type": "display_data"
    }
   ],
   "source": [
    "# plot \n",
    "plot_df = summary.melt(id_vars='Metric',\n",
    "                       var_name='Segment',\n",
    "                       value_name='Value')\n",
    "\n",
    "g = sns.catplot(data=plot_df,\n",
    "                x='Segment', y='Value',\n",
    "                col='Metric', kind='bar',\n",
    "                palette='Blues_r',\n",
    "                sharey=False, height=4, aspect=0.8)\n",
    "\n",
    "g.fig.suptitle('Champions vs Loyal Big-Spenders – Key KPIs', y=1.05)\n",
    "\n",
    "for ax in g.axes.flat:\n",
    "    for bars in ax.containers:\n",
    "        ax.bar_label(bars, fmt='%.0f', padding=3)\n",
    "    ax.set_xlabel('')           \n",
    "    ax.set_ylabel('')           \n",
    "\n",
    "plt.tight_layout()\n",
    "plt.show()\n"
   ]
  },
  {
   "cell_type": "markdown",
   "metadata": {},
   "source": [
    "As seen clearly in the graphs above, the difference between the revenue per customer between Champions and Loyal Big-Spenders is not that much, whereas the headcount of loyal big spenders quadruples that of champions. In addition, the total revenue the loyal big spenders bring is almost four times more than that of champions. Imagine if we can convert at least some of them to champions, that would be very profitable for the business."
   ]
  },
  {
   "cell_type": "markdown",
   "metadata": {},
   "source": [
    "## 2. Which segment requires immediate action to prevent churn?"
   ]
  },
  {
   "cell_type": "markdown",
   "metadata": {},
   "source": [
    "Let's call this segment as \"At-risk\". Those are the users whose R_score is low (R ≤ 2) but who were formerly high-frequency or high-spend (F_score ≥ 3 or M_score ≥ 3). They used to be valuable but haven’t opened the app for months."
   ]
  },
  {
   "cell_type": "markdown",
   "metadata": {},
   "source": [
    "Why are they urgent? They’re slipping away with the largest potential revenue haircut because their historical spend/frequency is high. Winning them back is cheaper than replacing them with new acquisitions.\n",
    "\n"
   ]
  },
  {
   "cell_type": "code",
   "execution_count": 30,
   "metadata": {},
   "outputs": [
    {
     "data": {
      "text/plain": [
       "497"
      ]
     },
     "execution_count": 30,
     "metadata": {},
     "output_type": "execute_result"
    }
   ],
   "source": [
    "at_risk = df[\n",
    "    (df['R_Score'].astype(int) <= 3) &        \n",
    "    (\n",
    "        (df['F_Score'].astype(int) >= 3) |    \n",
    "        (df['M_Score'].astype(int) >= 3)      \n",
    "    )\n",
    "]\n",
    "\n",
    "len(at_risk)          # count\n"
   ]
  },
  {
   "cell_type": "markdown",
   "metadata": {},
   "source": [
    "Now, let's compare them to all other users."
   ]
  },
  {
   "cell_type": "code",
   "execution_count": 31,
   "metadata": {},
   "outputs": [
    {
     "name": "stdout",
     "output_type": "stream",
     "text": [
      "                   Metric  At-Risk  All other users\n",
      "           Customer count      497              503\n",
      "       Total revenue (TL)  1418236          1159047\n",
      "Revenue per customer (TL)     2853             2304\n"
     ]
    }
   ],
   "source": [
    "others = df.drop(at_risk.index)\n",
    "\n",
    "# KPI comparison\n",
    "summary = pd.DataFrame({\n",
    "    'Metric': ['Customer count', 'Total revenue (TL)', 'Revenue per customer (TL)'],\n",
    "    'At-Risk': [\n",
    "        int(len(at_risk)),\n",
    "        int(at_risk['Total Spending (TL)'].sum()),\n",
    "        int(at_risk['Total Spending (TL)'].mean())\n",
    "    ],\n",
    "    'All other users': [\n",
    "        int(len(others)),\n",
    "        int(others['Total Spending (TL)'].sum()),\n",
    "        int(others['Total Spending (TL)'].mean())\n",
    "    ]\n",
    "})\n",
    "\n",
    "print(summary.to_string(index=False))"
   ]
  },
  {
   "cell_type": "code",
   "execution_count": 38,
   "metadata": {},
   "outputs": [
    {
     "name": "stderr",
     "output_type": "stream",
     "text": [
      "/var/folders/1z/j73pt9wx3dj89j3b5hd6qyhh0000gn/T/ipykernel_1940/2672567805.py:11: FutureWarning: \n",
      "\n",
      "Passing `palette` without assigning `hue` is deprecated and will be removed in v0.14.0. Assign the `x` variable to `hue` and set `legend=False` for the same effect.\n",
      "\n",
      "  g = sns.catplot(data=plot_df,\n"
     ]
    },
    {
     "data": {
      "image/png": "[encoded data removed]",
      "text/plain": [
       "<Figure size 960x400 with 3 Axes>"
      ]
     },
     "metadata": {},
     "output_type": "display_data"
    }
   ],
   "source": [
    "# plot the findings\n",
    "\n",
    "plot_df = (summary\n",
    "           .melt(id_vars='Metric',         \n",
    "                 var_name='Segment',        \n",
    "                 value_name='Value'))       \n",
    "\n",
    "\n",
    "sns.set_style('whitegrid')\n",
    "\n",
    "g = sns.catplot(data=plot_df,\n",
    "                x='Segment', y='Value',\n",
    "                col='Metric', kind='bar',\n",
    "                palette='Blues_r',\n",
    "                sharey=False,\n",
    "                height=4, aspect=0.8)\n",
    "\n",
    "g.fig.suptitle('At-Risk vs All Other Users – Key KPIs', y=1.05)\n",
    "\n",
    "for ax in g.axes.flat:\n",
    "    for bars in ax.containers:\n",
    "        ax.bar_label(bars, fmt='%.0f', padding=3)\n",
    "    ax.set_xlabel('')\n",
    "    ax.set_ylabel('')\n",
    "\n",
    "plt.tight_layout()\n",
    "plt.show()"
   ]
  },
  {
   "cell_type": "markdown",
   "metadata": {},
   "source": [
    "As seen above, the at-risk segment is comprised of almost the half of the whole user dataset. In addition, they are bringing more revenue than the rest of the users combined. The red flag here is that these users are not seen for some time already - their R_Score is <= 3. We need immediate action to bring those customers back, or else we will lose a significant amount of revenue in the mid-long run. "
   ]
  },
  {
   "cell_type": "markdown",
   "metadata": {},
   "source": [
    "## 3. How does customer behavior differ across the segments in terms of Recency, Frequency, and Monetary metrics?"
   ]
  },
  {
   "cell_type": "markdown",
   "metadata": {},
   "source": [
    "So far, we have segmented our dataset to 6: \n",
    "\n",
    "- Champions\n",
    "- Loyal Big Spenders\n",
    "- Poteantial Loyalists\n",
    "- Promising\n",
    "- New Customers\n",
    "- At-risk\n",
    "\n",
    "Let's plot all of them:"
   ]
  },
  {
   "cell_type": "code",
   "execution_count": 33,
   "metadata": {},
   "outputs": [
    {
     "name": "stdout",
     "output_type": "stream",
     "text": [
      "\n",
      "Mean metrics by segment:\n",
      "\n",
      "Metric               Frequency (Usage in Last 12 Months)  Recency  Total Spending (TL)\n",
      "Segment                                                                               \n",
      "At-Risk                                             30.0    282.0               2853.6\n",
      "Champions                                           45.8     60.2               4493.5\n",
      "Loyal Big-Spenders                                  39.6     69.3               3942.0\n",
      "New Customers                                       11.1     61.2               1067.6\n",
      "Potential Loyalists                                 35.7    102.1               1604.8\n",
      "Promising                                           19.3    137.5               1349.6\n"
     ]
    },
    {
     "name": "stderr",
     "output_type": "stream",
     "text": [
      "/var/folders/1z/j73pt9wx3dj89j3b5hd6qyhh0000gn/T/ipykernel_1940/3865587435.py:41: FutureWarning: \n",
      "\n",
      "Passing `palette` without assigning `hue` is deprecated and will be removed in v0.14.0. Assign the `x` variable to `hue` and set `legend=False` for the same effect.\n",
      "\n",
      "  g = sns.catplot(\n",
      "/var/folders/1z/j73pt9wx3dj89j3b5hd6qyhh0000gn/T/ipykernel_1940/3865587435.py:53: UserWarning: set_ticklabels() should only be used with a fixed number of ticks, i.e. after set_ticks() or using a FixedLocator.\n",
      "  ax.set_xticklabels(ax.get_xticklabels(), rotation=25, ha='right')\n",
      "/var/folders/1z/j73pt9wx3dj89j3b5hd6qyhh0000gn/T/ipykernel_1940/3865587435.py:53: UserWarning: set_ticklabels() should only be used with a fixed number of ticks, i.e. after set_ticks() or using a FixedLocator.\n",
      "  ax.set_xticklabels(ax.get_xticklabels(), rotation=25, ha='right')\n",
      "/var/folders/1z/j73pt9wx3dj89j3b5hd6qyhh0000gn/T/ipykernel_1940/3865587435.py:53: UserWarning: set_ticklabels() should only be used with a fixed number of ticks, i.e. after set_ticks() or using a FixedLocator.\n",
      "  ax.set_xticklabels(ax.get_xticklabels(), rotation=25, ha='right')\n"
     ]
    },
    {
     "data": {
      "image/png": "[encoded data removed]",
      "text/plain": [
       "<Figure size 1440x400 with 3 Axes>"
      ]
     },
     "metadata": {},
     "output_type": "display_data"
    }
   ],
   "source": [
    "df['R_Score'] = pd.qcut(df['Recency'], 5, labels=[5,4,3,2,1])\n",
    "df['F_Score'] = pd.qcut(df['Frequency (Usage in Last 12 Months)'], 5, labels=[1,2,3,4,5])\n",
    "df['M_Score'] = pd.qcut(df['Total Spending (TL)'], 5, labels=[1,2,3,4,5])\n",
    "df['RFM_Score'] = df['R_Score'].astype(str) + df['F_Score'].astype(str) + df['M_Score'].astype(str)\n",
    "\n",
    "# ------- 2. Map rows to the requested segments ---------------------------\n",
    "def label_segment(row):\n",
    "    r, f, m, rfm = row['R_Score'], row['F_Score'], row['M_Score'], row['RFM_Score']\n",
    "    if r==5 and f==5 and m==5: return 'Champions'\n",
    "    if rfm in ['554','545','544','455']: return 'Loyal Big-Spenders'\n",
    "    if r==5 and f<=2 and m<=2: return 'New Customers'\n",
    "    if r>=4 and f>=3 and m<=3: return 'Potential Loyalists'\n",
    "    if r>=4 and f==2 and m<=2: return 'Promising'\n",
    "    if r<=3 and (f>=3 or m>=3): return 'At-Risk'\n",
    "    return 'Others'\n",
    "\n",
    "df['Segment'] = df.apply(label_segment, axis=1)\n",
    "\n",
    "# keep only the six named segments\n",
    "segments_of_interest = ['Champions','Loyal Big-Spenders','New Customers',\n",
    "                        'Potential Loyalists','Promising','At-Risk']\n",
    "seg_df = df[df['Segment'].isin(segments_of_interest)].copy()\n",
    "\n",
    "# ------- 3. Aggregate mean metrics ---------------------------------------\n",
    "metrics = ['Recency', 'Frequency (Usage in Last 12 Months)', 'Total Spending (TL)']\n",
    "seg_mean = (seg_df.groupby('Segment')[metrics]\n",
    "            .mean()\n",
    "            .round(1)\n",
    "            .reset_index()\n",
    "            .melt(id_vars='Segment', var_name='Metric', value_name='Mean'))\n",
    "\n",
    "# ------- 4. Table view ----------------------------------------------------\n",
    "pivot_table = seg_mean.pivot(index='Segment', columns='Metric', values='Mean').round(1)\n",
    "print(\"\\nMean metrics by segment:\\n\")\n",
    "print(pivot_table.to_string())\n",
    "\n",
    "# ------- 5. Visual comparison --------------------------------------------\n",
    "\n",
    "sns.set_style('whitegrid')\n",
    "\n",
    "g = sns.catplot(\n",
    "    data=seg_mean,\n",
    "    x='Segment', y='Mean',\n",
    "    col='Metric', kind='bar',\n",
    "    palette='Blues_r',\n",
    "    sharey=False,\n",
    "    height=4, aspect=1.2     \n",
    ")\n",
    "\n",
    "g.fig.suptitle('Customer behaviour comparison across key segments', y=1.05)\n",
    "\n",
    "for ax in g.axes.flat:\n",
    "    ax.set_xticklabels(ax.get_xticklabels(), rotation=25, ha='right')\n",
    "    \n",
    "    for bars in ax.containers:\n",
    "        ax.bar_label(bars, fmt='%.1f', padding=3)\n",
    "    \n",
    "    ax.set_xlabel('')   \n",
    "    ax.set_ylabel('')   \n",
    "\n",
    "plt.tight_layout()\n",
    "plt.show()\n"
   ]
  },
  {
   "cell_type": "markdown",
   "metadata": {},
   "source": [
    "### Behaviour Differences Across Key Segments  \n",
    "\n",
    "| Segment | Recency&nbsp;*(days since last ride)* | Frequency&nbsp;*(rides / yr)* | Monetary&nbsp;*(TL / yr)* | Take-away |\n",
    "|---------|:------------------------------------:|:-----------------------------:|:-------------------------:|-----------|\n",
    "| **Champions** | **60** | **46** | **4 494** | Ride very recently and very often, spend the most — top VIPs. |\n",
    "| **Loyal Big-Spenders** | 69 | 40 | 3 942 | Almost as active as Champions and still high spend; biggest single revenue block. |\n",
    "| **Potential Loyalists** | 102 | 36 | 1 605 | Active and fairly frequent but mid-range spend → prime upsell targets. |\n",
    "| **Promising** | 138 | 19 | 1 350 | Recent but only a few rides so far; early-stage habit to nurture. |\n",
    "| **New Customers** | 61 | 11 | 1 068 | Very recent sign-ups with low usage & spend — activation window is now. |\n",
    "| **At-Risk** | **282** | 30 | 2 854 | Historically valuable but inactive for 9 months; urgent win-back needed. |\n",
    "\n",
    "**Key contrasts**\n",
    "\n",
    "* **Recency:** Champions, Loyal Big-Spenders, and New Customers are all seen within the last 2 months, whereas At-Risk users haven’t opened the app for 9 months.\n",
    "* **Frequency:** Champions ride the most (4 rides/month). Promising and New Customers are still below 2 rides/month.\n",
    "* **Monetary:** Spend per rider drops sharply after Loyal Big-Spenders; Potential Loyalists and Promising have head-room to grow, while At-Risk still carry high historic spend despite long dormancy.\n",
    "\n",
    "These averages highlight where to **retain (Champions, Loyal Big-Spenders), nurture (Potential Loyalists, Promising), activate (New Customers), and rescue (At-Risk)**.\n"
   ]
  },
  {
   "cell_type": "markdown",
   "metadata": {},
   "source": [
    "# Step 3: Marketing Strategy"
   ]
  },
  {
   "cell_type": "markdown",
   "metadata": {},
   "source": [
    "Before we start our suggestions, let's compare the R_score, F_score, and M_score of the segments so that we are backing up our suggestions with our findings. For example, we will not send push notifications such as \"We miss you\" to our high-value or emerging customers right off the bat. However, we'll do that for our churned / low-value customers. Let's take a look:"
   ]
  },
  {
   "cell_type": "code",
   "execution_count": 34,
   "metadata": {},
   "outputs": [
    {
     "data": {
      "text/html": [
       "<div>\n",
       "<style scoped>\n",
       "    .dataframe tbody tr th:only-of-type {\n",
       "        vertical-align: middle;\n",
       "    }\n",
       "\n",
       "    .dataframe tbody tr th {\n",
       "        vertical-align: top;\n",
       "    }\n",
       "\n",
       "    .dataframe thead th {\n",
       "        text-align: right;\n",
       "    }\n",
       "</style>\n",
       "<table border=\"1\" class=\"dataframe\">\n",
       "  <thead>\n",
       "    <tr style=\"text-align: right;\">\n",
       "      <th></th>\n",
       "      <th>Segment</th>\n",
       "      <th>customers</th>\n",
       "      <th>revenue</th>\n",
       "      <th>avg_R_score</th>\n",
       "      <th>avg_F_score</th>\n",
       "      <th>avg_M_score</th>\n",
       "      <th>rev_per_cust</th>\n",
       "      <th>cust_share</th>\n",
       "      <th>rev_share</th>\n",
       "    </tr>\n",
       "  </thead>\n",
       "  <tbody>\n",
       "    <tr>\n",
       "      <th>1</th>\n",
       "      <td>At-Risk</td>\n",
       "      <td>497</td>\n",
       "      <td>1418236</td>\n",
       "      <td>2</td>\n",
       "      <td>3</td>\n",
       "      <td>3</td>\n",
       "      <td>2854</td>\n",
       "      <td>50</td>\n",
       "      <td>55</td>\n",
       "    </tr>\n",
       "    <tr>\n",
       "      <th>2</th>\n",
       "      <td>Others</td>\n",
       "      <td>293</td>\n",
       "      <td>761322</td>\n",
       "      <td>4</td>\n",
       "      <td>2</td>\n",
       "      <td>3</td>\n",
       "      <td>2598</td>\n",
       "      <td>29</td>\n",
       "      <td>30</td>\n",
       "    </tr>\n",
       "    <tr>\n",
       "      <th>3</th>\n",
       "      <td>Potential Loyalists</td>\n",
       "      <td>134</td>\n",
       "      <td>215039</td>\n",
       "      <td>5</td>\n",
       "      <td>4</td>\n",
       "      <td>2</td>\n",
       "      <td>1605</td>\n",
       "      <td>13</td>\n",
       "      <td>8</td>\n",
       "    </tr>\n",
       "    <tr>\n",
       "      <th>4</th>\n",
       "      <td>Loyal Big-Spenders</td>\n",
       "      <td>27</td>\n",
       "      <td>106433</td>\n",
       "      <td>5</td>\n",
       "      <td>4</td>\n",
       "      <td>4</td>\n",
       "      <td>3942</td>\n",
       "      <td>3</td>\n",
       "      <td>4</td>\n",
       "    </tr>\n",
       "    <tr>\n",
       "      <th>5</th>\n",
       "      <td>Champions</td>\n",
       "      <td>6</td>\n",
       "      <td>26961</td>\n",
       "      <td>5</td>\n",
       "      <td>5</td>\n",
       "      <td>5</td>\n",
       "      <td>4494</td>\n",
       "      <td>1</td>\n",
       "      <td>1</td>\n",
       "    </tr>\n",
       "    <tr>\n",
       "      <th>6</th>\n",
       "      <td>New Customers</td>\n",
       "      <td>31</td>\n",
       "      <td>33097</td>\n",
       "      <td>5</td>\n",
       "      <td>1</td>\n",
       "      <td>1</td>\n",
       "      <td>1068</td>\n",
       "      <td>3</td>\n",
       "      <td>1</td>\n",
       "    </tr>\n",
       "    <tr>\n",
       "      <th>7</th>\n",
       "      <td>Promising</td>\n",
       "      <td>12</td>\n",
       "      <td>16195</td>\n",
       "      <td>4</td>\n",
       "      <td>2</td>\n",
       "      <td>2</td>\n",
       "      <td>1350</td>\n",
       "      <td>1</td>\n",
       "      <td>1</td>\n",
       "    </tr>\n",
       "  </tbody>\n",
       "</table>\n",
       "</div>"
      ],
      "text/plain": [
       "               Segment  customers  revenue  avg_R_score  avg_F_score  \\\n",
       "1              At-Risk        497  1418236            2            3   \n",
       "2               Others        293   761322            4            2   \n",
       "3  Potential Loyalists        134   215039            5            4   \n",
       "4   Loyal Big-Spenders         27   106433            5            4   \n",
       "5            Champions          6    26961            5            5   \n",
       "6        New Customers         31    33097            5            1   \n",
       "7            Promising         12    16195            4            2   \n",
       "\n",
       "   avg_M_score  rev_per_cust  cust_share  rev_share  \n",
       "1            3          2854          50         55  \n",
       "2            3          2598          29         30  \n",
       "3            2          1605          13          8  \n",
       "4            4          3942           3          4  \n",
       "5            5          4494           1          1  \n",
       "6            1          1068           3          1  \n",
       "7            2          1350           1          1  "
      ]
     },
     "metadata": {},
     "output_type": "display_data"
    }
   ],
   "source": [
    "# --- add integer score columns ---------------------------------\n",
    "df['R_int'] = df['R_Score'].astype(int)\n",
    "df['F_int'] = df['F_Score'].astype(int)\n",
    "df['M_int'] = df['M_Score'].astype(int)\n",
    "\n",
    "# --- now build the KPI table -----------------------------------\n",
    "kpi = (df.groupby('Segment')\n",
    "        .agg(customers   = ('Customer ID', 'count'),\n",
    "             revenue     = ('Total Spending (TL)', 'sum'),\n",
    "             avg_R_score = ('R_int', 'mean'),\n",
    "             avg_F_score = ('F_int', 'mean'),\n",
    "             avg_M_score = ('M_int', 'mean'))\n",
    "        .assign(rev_per_cust = lambda x: x['revenue'] / x['customers'],\n",
    "                cust_share   = lambda x: x['customers'] / x['customers'].sum() * 100,\n",
    "                rev_share    = lambda x: x['revenue']   / x['revenue'].sum()   * 100)\n",
    "        .round(0)\n",
    "        .astype(int)\n",
    "        .reset_index()\n",
    "        .sort_values('rev_share', ascending=False))\n",
    "\n",
    "kpi.index = range(1, len(kpi) + 1)\n",
    "display(kpi)\n"
   ]
  },
  {
   "cell_type": "markdown",
   "metadata": {},
   "source": [
    "## 1. High-Value Customers: How will you retain them and increase their loyalty?"
   ]
  },
  {
   "cell_type": "markdown",
   "metadata": {},
   "source": [
    "Our High Value customers have been analyzed in two segments: Champions and Loyal Big Spenders. Here are some ideas to retain them and increase their loyalty:"
   ]
  },
  {
   "cell_type": "markdown",
   "metadata": {},
   "source": [
    "- Automatic upgrade to a “BiTaksi Elite” status: priority driver assignment, and small monthly ride credits—keeps them feeling privileged and reduces churn risk.\n",
    "\n",
    "- Gamification: “Hit ₺2 000 total spend this month and unlock 10 % off every 5th ride next month.”\n",
    "\n",
    "- Personalised thank-you surprises: Quarterly surprise coupons (e.g., free airport transfer) tied to individual ride history; reinforces emotional loyalty at minimal cost.\n",
    "\n",
    "- Let them test new features first (e-scooter, parcel delivery, etc.). Exclusivity deepens engagement and generates high-quality feedback.\n",
    "\n",
    "- Offer prepaid 10/20-ride packs at 8 % discount. Locks in future trips and lifts upfront cash flow while increasing stickiness.\n",
    "\n",
    "- Double referral credits for this tier; their social influence pulls in similar high-value riders and boosts network effects.\n",
    "\n",
    "- Flag any Elite rider whose weekly rides drop >30 %. Trigger an automated “We miss you, here’s ₺50 off your next ride” push before loyalty erodes.\n"
   ]
  },
  {
   "cell_type": "markdown",
   "metadata": {},
   "source": [
    "## 2. Churned or Low-Value Customers: What initiatives can re-engage these users?"
   ]
  },
  {
   "cell_type": "markdown",
   "metadata": {},
   "source": [
    "This strategy targets At-Risk users (identified in our 6 key segments) and an additional slice of low-engagement users outside the priority clusters. Here are the initiative suggestions to re-engage these users: "
   ]
  },
  {
   "cell_type": "markdown",
   "metadata": {},
   "source": [
    "- “We Miss You” push with time-limited credits. Offer a ₺200 coupon valid for 3 days. Create urgency:\n",
    "“Take your next ride by Friday and get ₺200 off – just for coming back.”\n",
    "\n",
    "- Win-back email with personalised ride history: Highlight where and when they last rode:\n",
    "“It’s been 8 months since your last trip from Kadıköy to Taksim. Ready to ride again?”\n",
    "\n",
    "- First-ride reactivation bonus: For completely churned users, offer “₺100 off your first ride back” + double referral credits if they bring a friend.\n",
    "\n",
    "- Budget-friendly ride bundles: Create 3-ride packs at discounted rates to reactivate price-sensitive users who might have switched to cheaper alternatives.\n",
    "\n",
    "- Survey + credit combo: Ask why they stopped riding—offer ₺50 - ₺200 credit for feedback. Use insights to segment into price-sensitive, driver issues, app usability, etc.\n",
    "\n",
    "- Push passive app users: Target users who still have the app installed but haven’t ridden:\n",
    "“We’re still here. Need a lift?” + embedded quick-book CTA.\n"
   ]
  },
  {
   "cell_type": "markdown",
   "metadata": {},
   "source": [
    "## 3. Emerging Customers: How can you convert them into high-value customers?"
   ]
  },
  {
   "cell_type": "markdown",
   "metadata": {},
   "source": [
    "Coming back to our 6 segments, these emerging customers can be equated with Promising, Potential Loyalists, and New Customers. Below are some suggestions to convert these customers into high-value customers, such as Champions and Loyal Big Spenders."
   ]
  },
  {
   "cell_type": "markdown",
   "metadata": {},
   "source": [
    "For New Customers: \n",
    "\n",
    "- Welcome-back credit\n",
    "₺100 bonus for taking a second ride within 3 days. This offer reinforces early momentum.\n",
    "\n",
    "- Quick milestone challenge\n",
    "“3 rides this week = ₺50 credit”, it builds habit in the first 7 days.\n",
    "\n",
    "- Onboarding push series\n",
    "In-app messages: “How to earn rewards faster” / “Tips for better driver matches”, founding familiarity and trust.\n",
    "\n",
    "- Instant referral prompt\n",
    "“Refer a friend after your first ride and get ₺250 each”, turning early curiosity into growth."
   ]
  },
  {
   "cell_type": "markdown",
   "metadata": {},
   "source": [
    "For Promising & Potential Loyalists:\n",
    "\n",
    "- Ride-based progression offers: “You’re 2 rides away from unlocking BiTaksi Plus benefits”. This initiative leverages near-term action.\n",
    "\n",
    "- Ride bundle packs: Offer discounted 5- or 10-ride bundles to increase frequency and lock in usage.\n",
    "\n",
    "- Tiered loyalty rewards: Introduce silver/gold tiers with benefits (e.g. faster matching, bonus credits every 10 rides).\n",
    "\n",
    "- Monthly spend incentive: “Spend ₺1500 this month, get ₺200 credit next month”. This one encourages consistent usage and higher spend."
   ]
  },
  {
   "cell_type": "markdown",
   "metadata": {},
   "source": [
    "Geo-personalized Initiative Pool for both New Customers and Promising & Potential Loyalists:\n",
    "\n",
    "- “Night Rider” Credit (Kadıköy, Beşiktaş, Taksim)\n",
    "₺30 off on rides after 22:00 — targets nightlife movement and FOMO.\n",
    "\n",
    "- Weekend Corridor Bonus (Kızılay - Yenimahalle)\n",
    "Complete 3 rides between Friday–Sunday = ₺75 credit — boosts weekend repeat usage.\n",
    "\n",
    "- Pier Handoff Promo (Istanbul) “Catching a ferry from Beşiktaş or Kadıköy? Get ₺25 off your next ride to the pier.”\n",
    "Promotes short, high-frequency city rides.\n",
    "\n",
    "- After-Class Deal (Bilkent, Ege, ITU, etc.)\n",
    "₺30 off after 19:00 from university zones — hooks students into evening ride patterns.\n",
    "\n",
    "- Rain Ride Reward (Alsancak, Nişantaşı, etc.) Automatic ₺40 off when local forecast shows rain.\n",
    "High perceived value when walking is less desirable. Prompts such as  \"It's pouring in Alsancak — enjoy ₺40 off your next BiTaksi ride today. Stay dry, stay moving. Offer valid until midnight.\"\n",
    "\n",
    "- First Ride from Airport (Istanbul, Ankara, İzmir)\n",
    "₺100 off for new or returning users from Sabiha, Esenboğa, or Adnan Menderes.\n",
    "\n",
    "- Last Location Push: “We missed you in Moda! Here’s ₺40 off your next pickup from there.”\n",
    "\n",
    "\n",
    "\n"
   ]
  },
  {
   "cell_type": "markdown",
   "metadata": {},
   "source": [
    "## 4. When it comes to campaign activities, what can be done to grow the base of both the passengers and drivers of BiTaksi to make the most out of the budget that we have?"
   ]
  },
  {
   "cell_type": "markdown",
   "metadata": {},
   "source": [
    "Firstly, let's decide how much of our budget will go to the passengers and the drivers:\n",
    " \n",
    "Money invested in passengers must come back faster than the money spent on drivers. A new passenger usually earns back their acquisition cost in just 2–3 trips and keeps generating revenue, while recruiting additional drivers only helps if demand is already outgrowing the supply.\n",
    "\n",
    "Since BiTaksi’s main cities have short waiting times, stimulating demand must  be the bigger profit lever. Therefore, let's allocate **75% of the budget to passenger growth**, while investing **25% to driver initiatives** to maximize return while still keeping our supply healthy.\n",
    "\n"
   ]
  },
  {
   "cell_type": "markdown",
   "metadata": {},
   "source": [
    "### 4.1. Passenger Campaign Budget Allocation "
   ]
  },
  {
   "cell_type": "markdown",
   "metadata": {},
   "source": [
    "Idea #1: Look-alike ads seeded with “Champions” & “Loyal Big-Spenders” (Meta, Google, TikTok)\n",
    "\n",
    "- 35 % of the budget will go here.\n",
    "- Reason: Scales fastest; seed cohort keeps CAC 20-40 % below broad targeting."
   ]
  },
  {
   "cell_type": "markdown",
   "metadata": {},
   "source": [
    "Idea #2: Dynamic geo-fence bursts (concerts, derbies, festival zones)\n",
    "\n",
    "- 20 % of the budget will go here.\n",
    "- Reason: 48-hour, high-intent spikes. CPM is approx. 30 % under always-on citywide spend."
   ]
  },
  {
   "cell_type": "markdown",
   "metadata": {},
   "source": [
    "Idea #3: Streak-based refer-a-friend program (₺40 on ride 1, ₺100 after ride 3)\n",
    "\n",
    "- 20 % of the budget will go here.\n",
    "- Reason: Virtually zero media cost; turns existing passengers into recruiters while boosting early-life frequency.\n"
   ]
  },
  {
   "cell_type": "markdown",
   "metadata": {},
   "source": [
    "Idea #4: Airports & airlines bundle (IST, SAW terminals + Turkish Airlines boarding-pass e-mails)\t\n",
    "\n",
    "- 15 % of the budget will go here.\n",
    "- Reason: Captures tourists/business travellers at the exact “need-a-ride” moment; higher fare sizes offset partnership fees.\n"
   ]
  },
  {
   "cell_type": "markdown",
   "metadata": {},
   "source": [
    "Idea #5: Quick-commerce cross-promo (Getir, Yemeksepeti, Trendyol Go)\n",
    "\n",
    "- 10 % of the budget will go here.\n",
    "- Reason: Each grocery/food order receipt shows a unique Bitaksi first-ride code; partners co-fund incentives, tapping millions of high-frequency, app-savvy users at minimal CAC.\n",
    "\n",
    "\n"
   ]
  },
  {
   "cell_type": "markdown",
   "metadata": {},
   "source": [
    "### 4.2. Driver Campaign Budget Allocation"
   ]
  },
  {
   "cell_type": "markdown",
   "metadata": {},
   "source": [
    "Idea #1: WhatsApp click-to-chat lead ads (targeted to plate registry + churned drivers)\n",
    "\n",
    "- 35 % of the budget will go here.\n",
    "- Cheapest proven source of qualified drivers—2-3× higher conversion than broad social ads, so every lira pulls in more activated supply."
   ]
  },
  {
   "cell_type": "markdown",
   "metadata": {},
   "source": [
    "Idea #2: ₺500 fuel-card bonus after first 20-ride streak\n",
    "\n",
    "- 30 % of the budget will go here.\n",
    "- Pays out only when the driver is fully active, turning cost into guaranteed revenue while enticing dormant high-rated drivers to return."
   ]
  },
  {
   "cell_type": "markdown",
   "metadata": {},
   "source": [
    "Idea #3: Weekly gamified leaderboard & fuel draw for top 10 %\t\n",
    "\n",
    "- 15 % of the budget will go here.\n",
    "- Small cash outlay, big psychological lift; increases online hours and keeps CSAT high without scaling costs."
   ]
  },
  {
   "cell_type": "markdown",
   "metadata": {},
   "source": [
    "Idea #4: In-app 30-minute hot-zone heat-map guidance\t\n",
    "\n",
    "- 10 % of the budget will go here.\n",
    "- Product tweak, not media spend—helps drivers earn more per hour, boosting retention for pennies."
   ]
  },
  {
   "cell_type": "markdown",
   "metadata": {},
   "source": [
    "Idea #5: Experiment pot (fuel-station pop-ups, micro-influencer drivers, etc.)\n",
    "\n",
    "- 10 % of the budget will go here.\n",
    "- Funds 1-2 quick pilots per quarter; scale or kill fast based on cost-per-activated-driver vs. baseline."
   ]
  },
  {
   "cell_type": "markdown",
   "metadata": {},
   "source": [
    "## 5. At BiTaksi, what initiatives can be taken in order to decrease the churn rate of the passengers and drivers?"
   ]
  },
  {
   "cell_type": "markdown",
   "metadata": {},
   "source": [
    "### 5.1. Passenger Churn Reduction Initiatives "
   ]
  },
  {
   "cell_type": "markdown",
   "metadata": {},
   "source": [
    "Let's first start with BiTaksi passengers. We have already segmented them into 6 groups:\n",
    "\n",
    "- Champions (highest R + F + M)\n",
    "- Loyal Big-Spenders \n",
    "- New Customers\n",
    "- Potential Loyalists\n",
    "- Promising \n",
    "- At Risk (R 1-2, low F)\n"
   ]
  },
  {
   "cell_type": "markdown",
   "metadata": {},
   "source": [
    "#### 5.1.1. Churn Reduction Initiatives for Champions"
   ]
  },
  {
   "cell_type": "markdown",
   "metadata": {},
   "source": [
    "- Priority Pickup + Fare-Freeze: if ETA > 10 min, ₺100 auto-credit\n",
    "- 48-hour “We-Miss-You” bonus: ₺100 ride credit the moment the 7-day gap hits\n",
    "- VIP Early-Access Pack: bundle of new features + partner lounge voucher (ex. Turkish Airlines Istanbul Airport Lounge)"
   ]
  },
  {
   "cell_type": "markdown",
   "metadata": {},
   "source": [
    "#### 5.1.2. Churn Reduction Initiatives for Loyal Big-Spenders\t"
   ]
  },
  {
   "cell_type": "markdown",
   "metadata": {},
   "source": [
    "- 5-ride cash-back streak: earn ₺100 back when completing 5 surge-priced rides\n",
    "- Dedicated WhatsApp concierge with 5-min SLA ＋ ₺250 goodwill credit on unresolved issues\n",
    "- Spend milestone: free airport ride (≈ ₺100+) after every ₺1 500 monthly spend"
   ]
  },
  {
   "cell_type": "markdown",
   "metadata": {},
   "source": [
    "#### 5.1.3. Churn Reduction Initiatives for New Customers"
   ]
  },
  {
   "cell_type": "markdown",
   "metadata": {},
   "source": [
    "- “3-ride bundle”: ₺100 total discount split across rides 2-4\n",
    "- Gamified progress bar: unlock ₺150 bonus credit after first 3 rides\n",
    "- Welcome survey reward: ₺75 personalised voucher for completing a 1-minute survey"
   ]
  },
  {
   "cell_type": "markdown",
   "metadata": {},
   "source": [
    "#### 5.1.4. Churn Reduction Initiatives for Potential Loyalists"
   ]
  },
  {
   "cell_type": "markdown",
   "metadata": {},
   "source": [
    "- Commute-hour vouchers: ₺100 off split across next AM & PM rides\n",
    "- Ride-10 celebration: ₺100 credit when hitting 10 lifetime rides\n",
    "- Smart reminder: ML-timed push offering ₺50 cashback if they ride within 24 h"
   ]
  },
  {
   "cell_type": "markdown",
   "metadata": {},
   "source": [
    "#### 5.1.5. Churn Reduction Initiatives for Promising"
   ]
  },
  {
   "cell_type": "markdown",
   "metadata": {},
   "source": [
    "- Fare-lock preview + next-10-min price forecast\n",
    "- Off-peak credit: ₺50 auto-sent after 2 searches w/o booking\n",
    "- “Price-drop” alert: push when surge subsides, bundling ₺75 coupon (Use the coupon code DROP75)"
   ]
  },
  {
   "cell_type": "markdown",
   "metadata": {},
   "source": [
    "#### 5.1.6. Churn Reduction Initiatives for At-Risk"
   ]
  },
  {
   "cell_type": "markdown",
   "metadata": {},
   "source": [
    "- “Mega Come-Back Bundle”: Push + e-mail: “We’ve missed you! Enjoy ₺150 credit spread over your next 3 rides (₺50 each). Expires in 10 days.” \n",
    "- Free airport or intercity ride. Voucher: “One FREE ride up to ₺200 anywhere—including IST or SAW—valid 30 days.”\n",
    "- “Gift a Ride” double bonus. Push: “Share Bitaksi with a friend—both of you get ₺200. Your code expires in 7 days.”\n",
    "- “Weekend Duo Pack”: Push + e-mail: “Ride back with Bitaksi! This weekend you get 2 free rides, up to ₺150 each (₺300 total). Activate with one tap—offer valid Fri 18:00 - Sun 23:59.”"
   ]
  },
  {
   "cell_type": "markdown",
   "metadata": {},
   "source": [
    "### 5.2. Driver Churn Reduction Initiatives "
   ]
  },
  {
   "cell_type": "markdown",
   "metadata": {},
   "source": [
    "Let's segment our drivers to 6 groups as well:\n",
    "\n",
    "- Elite Earners\n",
    "(Top 10 % by rides & rating ≥ 4.8)\n",
    "- Consistent Pros\n",
    "(Rating ≥ 4.6, 40-80 rides/wk)\n",
    "- New Drivers\n",
    "(≤ 30 days on platform)\n",
    "- Dormant High-Rated\n",
    "(Inactive ≥14 days, rating ≥ 4.7)\n",
    "- At-Risk\n",
    "(Online hours ↓ 30 % & cancel rate ↑ > 5 pp)\n",
    "- Low-Rating\n",
    "(Rating < 4.5)"
   ]
  },
  {
   "cell_type": "markdown",
   "metadata": {},
   "source": [
    "#### 5.2.1. Churn Reduction Initiatives for Elite Earners"
   ]
  },
  {
   "cell_type": "markdown",
   "metadata": {},
   "source": [
    "- Priority dispatch for airport / long-haul jobs all week.\n",
    "- ₺400 fuel e-card when they match last week’s ride count.\n",
    "- Invite-only “Pro Club” WhatsApp line—human help < 3 min."
   ]
  },
  {
   "cell_type": "markdown",
   "metadata": {},
   "source": [
    "#### 5.2.2. Churn Reduction Initiatives for Consistent Pros"
   ]
  },
  {
   "cell_type": "markdown",
   "metadata": {},
   "source": [
    "- ₺500 fuel top-up after a 50-ride streak.\n",
    "- Heat-map tips pushed daily at shift start.\n",
    "- 50 % service-fee holiday for the next 25 rides."
   ]
  },
  {
   "cell_type": "markdown",
   "metadata": {},
   "source": [
    "#### 5.2.3. Churn Reduction Initiatives for New Drivers"
   ]
  },
  {
   "cell_type": "markdown",
   "metadata": {},
   "source": [
    "- On-boarding coach call + ₺60 fuel voucher when call finished.\n",
    "- “First-50” badge + extra ₺100 after 50 rides.\n",
    "- Guaranteed floor – ₺350/day if they accept ≥90 % of jobs."
   ]
  },
  {
   "cell_type": "markdown",
   "metadata": {},
   "source": [
    "#### 5.2.4. Churn Reduction Initiatives for Dormant High-Rated"
   ]
  },
  {
   "cell_type": "markdown",
   "metadata": {},
   "source": [
    "- Reactivation bundle – ₺750 fuel after 30 rides in 10 days.\n",
    "- WhatsApp Doc-Refresh – send a personalised link; driver snaps photos of any expired papers in chat, OCR + staff verify within 15 min, and we top-up ₺20 mobile data for their trouble.\n",
    "- “Queue-jump” pass for first 5 rides back."
   ]
  },
  {
   "cell_type": "markdown",
   "metadata": {},
   "source": [
    "#### 5.2.5. Churn Reduction Initiatives for At-Risk\n",
    "\n"
   ]
  },
  {
   "cell_type": "markdown",
   "metadata": {},
   "source": [
    "- Cancel-fee buffer: first 10 cancellations free (approx. ₺100 value).\n",
    "- SIM-Data ＋ Coffee Boost: finish 30 rides in 7 days and get a ₺150 data top-up plus a free coffee voucher at partner petrol stations.\n",
    "- Peak-Hour Earnings Booster: for the next 20 rides accepted during weekday peaks (07-10 & 17-20), Bitaksi adds ₺6 extra per ride (max ₺120)."
   ]
  },
  {
   "cell_type": "markdown",
   "metadata": {},
   "source": [
    "#### 5.2.6. Churn Reduction Initiatives for Low-Rating\n",
    "\n"
   ]
  },
  {
   "cell_type": "markdown",
   "metadata": {},
   "source": [
    "- Free customer-service micro-course; complete: ₺100 bonus.\n",
    "- Temporary pairing with high-rated zones (safer passengers).\n",
    "- Progress badge: earn back full dispatch access after 10 five-star rides; extra ₺250 bonus."
   ]
  },
  {
   "cell_type": "markdown",
   "metadata": {},
   "source": [
    "## 6. What are the areas to improve for BiTaksi and the areas that it dominates the market, when we compare it to its competitors? "
   ]
  },
  {
   "cell_type": "markdown",
   "metadata": {},
   "source": [
    "When we look at the recent market, as of June 2025, we see three competitors for BiTaksi: Uber, Martı TAG and Yandex Go. Dimension by dimension, let's investigate where BiTaksi is stronger, but also have a keen eye on its competitors' recent moves."
   ]
  },
  {
   "cell_type": "markdown",
   "metadata": {},
   "source": [
    "### Dimension #1: Geographic Reach"
   ]
  },
  {
   "cell_type": "markdown",
   "metadata": {},
   "source": [
    "#### What BiTaksi already does better than the rest:"
   ]
  },
  {
   "cell_type": "markdown",
   "metadata": {},
   "source": [
    "Operates in 24 Turkish cities, from İstanbul to Gaziantep. BiTaksi is the only private-sector app with true nationwide coverage."
   ]
  },
  {
   "cell_type": "markdown",
   "metadata": {},
   "source": [
    "#### Where rivals have the edge / what BiTaksi should fix:\n"
   ]
  },
  {
   "cell_type": "markdown",
   "metadata": {},
   "source": [
    "- Uber is now live in just 6–7 big cities (İstanbul, Ankara, İzmir, Bursa, Kayseri, Adana). Martı and Yandex Go are still regional, but their growth stories show they can scale fast. (Martı +12 % riders QoQ, Yandex Go expanding beyond Antalya, especially along the Mediterranean region).\n",
    "\n",
    "- BiTaksi definitely should keep a close eye on these initiatives. It should not take its leading position for granted and immediately push for geo-based initiatives. On geo-based intiatives, here are some ideas to implement: \n",
    "\n",
    "-- “Night Rider” Credit (Kadıköy, Beşiktaş, Taksim)\n",
    "₺30 off on rides after 22:00 — targets nightlife movement and FOMO.\n",
    "\n",
    "-- Weekend Corridor Bonus (Kızılay - Yenimahalle)\n",
    "Complete 3 rides between Friday–Sunday = ₺75 credit — boosts weekend repeat usage.\n",
    "\n",
    "-- Pier Handoff Promo (Istanbul) “Catching a ferry from Beşiktaş or Kadıköy? Get ₺25 off your next ride to the pier.”\n",
    "Promotes short, high-frequency city rides.\n",
    "\n",
    "-- After-Class Deal (Bilkent, Ege, ITU, etc.)\n",
    "₺30 off after 19:00 from university zones — hooks students into evening ride patterns.\n",
    "\n",
    "-- Rain Ride Reward (Alsancak, Nişantaşı, etc.) Automatic ₺40 off when local forecast shows rain.\n",
    "High perceived value when walking is less desirable. Prompts such as  \"It's pouring in Alsancak — enjoy ₺40 off your next BiTaksi ride today. Stay dry, stay moving. Offer valid until midnight.\"\n",
    "\n",
    "-- First Ride from Airport (Istanbul, Ankara, İzmir)\n",
    "₺100 off for new or returning users from Sabiha, Esenboğa, or Adnan Menderes.\n",
    "\n",
    "-- Last Location Push: “We missed you in Moda! Here’s ₺40 off your next pickup from there.”\n",
    "\n",
    "\n"
   ]
  },
  {
   "cell_type": "markdown",
   "metadata": {},
   "source": [
    "### Dimension #2: Payment stack & UX extras\t"
   ]
  },
  {
   "cell_type": "markdown",
   "metadata": {},
   "source": [
    "#### What BiTaksi already does better than the rest:"
   ]
  },
  {
   "cell_type": "markdown",
   "metadata": {},
   "source": [
    "- Card-on-file, cash, Masterpass wallet; in-app fare estimate.\n",
    "- Pet-friendly “Pati Taksi”; 24/7 phone support."
   ]
  },
  {
   "cell_type": "markdown",
   "metadata": {},
   "source": [
    "#### Where rivals have the edge / what BiTaksi should fix:\n"
   ]
  },
  {
   "cell_type": "markdown",
   "metadata": {},
   "source": [
    "- ₺50 service fee on every İstanbul trip angers riders and is called a “hidden cost” in FAQ and complaints.\n",
    "\n",
    "Competitors will most likely go after this and build a workaround to market something like \"no hidden cost\", etc. BiTaksi should do a detailed analysis on this specific issue and analyze how it is impacting their churn. It is definitely an issue to be addressed since data shows that it is a common customer complaint. The anecdota and data are strong with this one."
   ]
  },
  {
   "cell_type": "markdown",
   "metadata": {},
   "source": [
    "### Dimension #3: Payment stack & UX extras"
   ]
  },
  {
   "cell_type": "markdown",
   "metadata": {},
   "source": [
    "#### What BiTaksi already does better than the rest:"
   ]
  },
  {
   "cell_type": "markdown",
   "metadata": {},
   "source": [
    "- Large yellow-taxi fleet; drivers can keep cash or card tips, no need to buy special plates; nationwide demand.\t"
   ]
  },
  {
   "cell_type": "markdown",
   "metadata": {},
   "source": [
    "#### Where rivals have the edge / what BiTaksi should fix:"
   ]
  },
  {
   "cell_type": "markdown",
   "metadata": {},
   "source": [
    "- Martı TAG markets zero commission (“Martı hiçbir komisyon almaz”) which is attractive to drivers. \n",
    "- Offering temporary fee holidays or loyalty rebates would blunt that message."
   ]
  },
  {
   "cell_type": "markdown",
   "metadata": {},
   "source": [
    "### Dimension #4: Tourist Friendliness"
   ]
  },
  {
   "cell_type": "markdown",
   "metadata": {},
   "source": [
    "#### What BiTaksi already does better than the rest:"
   ]
  },
  {
   "cell_type": "markdown",
   "metadata": {},
   "source": [
    "- Smooth English UI experience, fare shown before pickup; hotline helps visitors unfamiliar with the city.\t"
   ]
  },
  {
   "cell_type": "markdown",
   "metadata": {},
   "source": [
    "#### Where rivals have the edge / what BiTaksi should fix:"
   ]
  },
  {
   "cell_type": "markdown",
   "metadata": {},
   "source": [
    "- Yandex Go arrived with multilingual TR/EN/RU interface and cash-or-card flexibility that specifically targets Russian-speaking tourists on the Mediterranean coast.\n",
    "- Adding Russian-language support in the BiTaksi UI (and airport kiosks) would close this gap."
   ]
  },
  {
   "cell_type": "markdown",
   "metadata": {},
   "source": [
    "### Dimension #5: Brand & Trust"
   ]
  },
  {
   "cell_type": "markdown",
   "metadata": {},
   "source": [
    "#### What BiTaksi already does better than the rest:"
   ]
  },
  {
   "cell_type": "markdown",
   "metadata": {},
   "source": [
    "- A decade-old brand with 100 M+ completed rides and top-of-mind awareness."
   ]
  },
  {
   "cell_type": "markdown",
   "metadata": {},
   "source": [
    "#### Where rivals have the edge / what BiTaksi should fix:"
   ]
  },
  {
   "cell_type": "markdown",
   "metadata": {},
   "source": [
    "- Peak-time acceptance gaps: complaints of 15-20 min waits or driver cancellations fill ŞikayetVar boards and push disgruntled riders to Uber.\n",
    "- A supply-side SLA (e.g., ₺50 credit if ETA > 8 min) would turn a weakness into an NPS win."
   ]
  },
  {
   "cell_type": "markdown",
   "metadata": {},
   "source": [
    "### Dimension #5: Brand & Trust"
   ]
  },
  {
   "cell_type": "markdown",
   "metadata": {},
   "source": [
    "#### What BiTaksi already does better than the rest:"
   ]
  },
  {
   "cell_type": "markdown",
   "metadata": {},
   "source": [
    "- Works only with licensed yellow taxis, avoiding the legal battles that once sidelined Uber, Martı, etc."
   ]
  },
  {
   "cell_type": "markdown",
   "metadata": {},
   "source": [
    "#### Where rivals have the edge / what BiTaksi should fix:"
   ]
  },
  {
   "cell_type": "markdown",
   "metadata": {},
   "source": [
    "- Martı TAG just won a lawsuit that keeps its “car-pool” model legal and fee-free, potentially eroding BiTaksi’s driver pool in İstanbul. Uber, on the other hand, is back, and coming big."
   ]
  },
  {
   "cell_type": "markdown",
   "metadata": {},
   "source": [
    "### Conclusion:"
   ]
  },
  {
   "cell_type": "markdown",
   "metadata": {},
   "source": [
    "BiTaksi’s national footprint, rich payment options, and decade of brand equity are real moats, but volume-draining pain points—service fee perception, peak-hour supply, tourist language support, and geo-based moves by its competitors are exactly where Uber, Martı and Yandex Go are attacking. Fixing those few gaps will turn BiTaksi’s size advantage into a decisive market lead."
   ]
  },
  {
   "cell_type": "markdown",
   "metadata": {},
   "source": [
    "## 7. What are the possible passenger and driver segments for BiTaksi? "
   ]
  },
  {
   "cell_type": "markdown",
   "metadata": {},
   "source": [
    "Earlier, with the dataset that we have, we segmented our passengers into 6 groups:\n",
    "\n",
    "- Champions (highest R + F + M)\n",
    "- Loyal Big-Spenders \n",
    "- New Customers\n",
    "- Potential Loyalists\n",
    "- Promising \n",
    "- At Risk (R 1-2, low F)\n",
    "\n",
    "For detailed exploration of these segments, please refer to the header titled \"Analyze the Segments\"\n"
   ]
  },
  {
   "cell_type": "markdown",
   "metadata": {},
   "source": [
    "Later, we supposed 6 segments for drivers as well and named them the following: \n",
    "\n",
    "- Elite Earners\n",
    "(Top 10 % by rides & rating ≥ 4.8)\n",
    "- Consistent Pros\n",
    "(Rating ≥ 4.6, 40-80 rides/wk)\n",
    "- New Drivers\n",
    "(≤ 30 days on platform)\n",
    "- Dormant High-Rated\n",
    "(Inactive ≥14 days, rating ≥ 4.7)\n",
    "- At-Risk\n",
    "(Online hours ↓ 30 % & cancel rate ↑ > 5 pp)\n",
    "- Low-Rating\n",
    "(Rating < 4.5)"
   ]
  },
  {
   "cell_type": "markdown",
   "metadata": {},
   "source": [
    "We can suppose their characteristics as below:"
   ]
  },
  {
   "cell_type": "markdown",
   "metadata": {},
   "source": [
    "**Elite Earners – top 10 % by rides, rating ≥ 4.8**\n",
    "\n",
    "* Online every rush-hour, know all hot-zones, rarely cancel.\n",
    "* Prioritise income per hour and tip frequency; happiest when they get airport or long-haul fares.\n",
    "* Expect instant support; any downtime or app glitch annoys them fast.\n",
    "\n",
    "**Consistent Pros – rating ≥ 4.6, 40-80 rides/week**\n",
    "\n",
    "* The operational backbone: dependable, polite, but still hunting for better net earnings.\n",
    "* Fuel and data costs are constant stressors; small bonuses or commission rebates move the needle.\n",
    "* Open to coaching on heat-map use, surge timing, and upsell tips.\n",
    "\n",
    "**New Drivers – ≤ 30 days on the platform**\n",
    "\n",
    "* Still juggling document uploads, first cancellation penalties, and learning the dispatch rhythm.\n",
    "* Biggest fears: low ratings, unfamiliar routes, and wasting fuel while waiting.\n",
    "* Quick wins are clear onboarding checklists, “first-50 rides” bonuses, and real-time chat help.\n",
    "\n",
    "**Dormant High-Rated – inactive ≥ 14 days, rating ≥ 4.7**\n",
    "\n",
    "* Often parked due to expired paperwork, seasonal travel, or testing a rival app.\n",
    "* Will return for easy admin fixes and a burst of guaranteed, high-fare trips.\n",
    "* Care more about immediate ride flow than one-off cash gifts.\n",
    "\n",
    "**At-Risk – hours down 30 % and cancel rate up 5 pp**\n",
    "\n",
    "* Burning out on low-fare jobs, traffic, or repeated rider no-shows.\n",
    "* Penalty anxiety makes them switch off rather than risk more fees.\n",
    "* Data top-ups, cancel-fee buffers, and peak-hour per-ride boosts keep them engaged.\n",
    "\n",
    "**Low-Rating – rating < 4.5**\n",
    "\n",
    "* Struggle with customer etiquette, route disputes, or vehicle cleanliness.\n",
    "* Afraid of de-activation but unsure how to improve.\n",
    "* Respond well to bite-size service tips, recovery badges, and small bonuses tied to five-star streaks.\n"
   ]
  }
 ],
 "metadata": {
  "kernelspec": {
   "display_name": "base",
   "language": "python",
   "name": "python3"
  },
  "language_info": {
   "codemirror_mode": {
    "name": "ipython",
    "version": 3
   },
   "file_extension": ".py",
   "mimetype": "text/x-python",
   "name": "python",
   "nbconvert_exporter": "python",
   "pygments_lexer": "ipython3",
   "version": "3.12.7"
  }
 },
 "nbformat": 4,
 "nbformat_minor": 2
}
